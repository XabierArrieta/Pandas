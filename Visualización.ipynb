{
 "cells": [
  {
   "cell_type": "code",
   "execution_count": null,
   "metadata": {},
   "outputs": [],
   "source": [
    "Visualización:\n",
    "'''\n",
    "En el año 1975 el director de cine Steven Spielberg estrenó la pelicula, Tiburón. Un tiburón blanco amenazaba \n",
    "a los habitantes y turistas de un pueblo costero. Desde entonces, muchas más peliculas con tiburones han extendido el \n",
    "miedo a ellos. Pero sabias que a pesar de su fama de animales letales, los tiburones provocan un número de muertes \n",
    "humanas mas bajo en comparación con otros animales?\n",
    "\n",
    "Según la OMS, los mosquitos acaban con la vida de más de 750.000 personas cada año debido a las enfermedades que\n",
    "transmiten como el dengue, o la malaria.\n",
    "\n",
    "Vamos a analizar el ataque de los tiburones en el año 2018 en el mundo; ¿En qué país han atacado más tiburones?\n",
    "\n",
    "Podemos observar que el país con más ataques de tiburones sufridos en 2018 es USA, con XXX ataques, seguido de \n",
    "Australia y South Africa.\n",
    "\n",
    "(gráfico - USA, Australia, South Africa y resto)\n",
    "\n",
    "En USA, los hombres sufrieron más ataques que las mujeres y la edad media de los atacados era: XX\n",
    "\n",
    "(grádico, por sexos y la media.)\n",
    "\n",
    "El Sr. XXXX con XXXX años fue la persona de mayor edad atacada, en XXX, mientras practicaba XXX.\n",
    "\n",
    "\n",
    "En cambio el Sr. XXXX fue la persona más joven, mientras practicaba XXX.\n",
    "\n",
    "\n",
    "'''\n",
    "\n",
    "\n",
    "\n",
    "\n"
   ]
  }
 ],
 "metadata": {
  "kernelspec": {
   "display_name": "Python 3",
   "language": "python",
   "name": "python3"
  },
  "language_info": {
   "codemirror_mode": {
    "name": "ipython",
    "version": 3
   },
   "file_extension": ".py",
   "mimetype": "text/x-python",
   "name": "python",
   "nbconvert_exporter": "python",
   "pygments_lexer": "ipython3",
   "version": "3.9.1"
  }
 },
 "nbformat": 4,
 "nbformat_minor": 5
}
