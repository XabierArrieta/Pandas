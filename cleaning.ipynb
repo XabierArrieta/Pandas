{
 "cells": [
  {
   "cell_type": "markdown",
   "metadata": {},
   "source": [
    "# 1. Importamos las librerias necesarias"
   ]
  },
  {
   "cell_type": "code",
   "execution_count": 1,
   "metadata": {
    "scrolled": true
   },
   "outputs": [],
   "source": [
    "import pandas as pd\n",
    "import numpy as np\n",
    "import matplotlib.pyplot as plt\n",
    "import seaborn as sns\n",
    "import re"
   ]
  },
  {
   "cell_type": "markdown",
   "metadata": {},
   "source": [
    "# 2. Abrimos el Dataset\n"
   ]
  },
  {
   "cell_type": "code",
   "execution_count": 2,
   "metadata": {
    "scrolled": true
   },
   "outputs": [
    {
     "data": {
      "text/html": [
       "<div>\n",
       "<style scoped>\n",
       "    .dataframe tbody tr th:only-of-type {\n",
       "        vertical-align: middle;\n",
       "    }\n",
       "\n",
       "    .dataframe tbody tr th {\n",
       "        vertical-align: top;\n",
       "    }\n",
       "\n",
       "    .dataframe thead th {\n",
       "        text-align: right;\n",
       "    }\n",
       "</style>\n",
       "<table border=\"1\" class=\"dataframe\">\n",
       "  <thead>\n",
       "    <tr style=\"text-align: right;\">\n",
       "      <th></th>\n",
       "      <th>Case Number</th>\n",
       "      <th>Date</th>\n",
       "      <th>Year</th>\n",
       "      <th>Type</th>\n",
       "      <th>Country</th>\n",
       "      <th>Area</th>\n",
       "      <th>Location</th>\n",
       "      <th>Activity</th>\n",
       "      <th>Name</th>\n",
       "      <th>Sex</th>\n",
       "      <th>...</th>\n",
       "      <th>Species</th>\n",
       "      <th>Investigator or Source</th>\n",
       "      <th>pdf</th>\n",
       "      <th>href formula</th>\n",
       "      <th>href</th>\n",
       "      <th>Case Number.1</th>\n",
       "      <th>Case Number.2</th>\n",
       "      <th>original order</th>\n",
       "      <th>Unnamed: 22</th>\n",
       "      <th>Unnamed: 23</th>\n",
       "    </tr>\n",
       "  </thead>\n",
       "  <tbody>\n",
       "    <tr>\n",
       "      <th>0</th>\n",
       "      <td>2018.06.25</td>\n",
       "      <td>25-Jun-2018</td>\n",
       "      <td>2018.0</td>\n",
       "      <td>Boating</td>\n",
       "      <td>USA</td>\n",
       "      <td>California</td>\n",
       "      <td>Oceanside, San Diego County</td>\n",
       "      <td>Paddling</td>\n",
       "      <td>Julie Wolfe</td>\n",
       "      <td>F</td>\n",
       "      <td>...</td>\n",
       "      <td>White shark</td>\n",
       "      <td>R. Collier, GSAF</td>\n",
       "      <td>2018.06.25-Wolfe.pdf</td>\n",
       "      <td>http://sharkattackfile.net/spreadsheets/pdf_di...</td>\n",
       "      <td>http://sharkattackfile.net/spreadsheets/pdf_di...</td>\n",
       "      <td>2018.06.25</td>\n",
       "      <td>2018.06.25</td>\n",
       "      <td>6303.0</td>\n",
       "      <td>NaN</td>\n",
       "      <td>NaN</td>\n",
       "    </tr>\n",
       "    <tr>\n",
       "      <th>1</th>\n",
       "      <td>2018.06.18</td>\n",
       "      <td>18-Jun-2018</td>\n",
       "      <td>2018.0</td>\n",
       "      <td>Unprovoked</td>\n",
       "      <td>USA</td>\n",
       "      <td>Georgia</td>\n",
       "      <td>St. Simon Island, Glynn County</td>\n",
       "      <td>Standing</td>\n",
       "      <td>Adyson McNeely</td>\n",
       "      <td>F</td>\n",
       "      <td>...</td>\n",
       "      <td>NaN</td>\n",
       "      <td>K.McMurray, TrackingSharks.com</td>\n",
       "      <td>2018.06.18-McNeely.pdf</td>\n",
       "      <td>http://sharkattackfile.net/spreadsheets/pdf_di...</td>\n",
       "      <td>http://sharkattackfile.net/spreadsheets/pdf_di...</td>\n",
       "      <td>2018.06.18</td>\n",
       "      <td>2018.06.18</td>\n",
       "      <td>6302.0</td>\n",
       "      <td>NaN</td>\n",
       "      <td>NaN</td>\n",
       "    </tr>\n",
       "    <tr>\n",
       "      <th>2</th>\n",
       "      <td>2018.06.09</td>\n",
       "      <td>09-Jun-2018</td>\n",
       "      <td>2018.0</td>\n",
       "      <td>Invalid</td>\n",
       "      <td>USA</td>\n",
       "      <td>Hawaii</td>\n",
       "      <td>Habush, Oahu</td>\n",
       "      <td>Surfing</td>\n",
       "      <td>John Denges</td>\n",
       "      <td>M</td>\n",
       "      <td>...</td>\n",
       "      <td>NaN</td>\n",
       "      <td>K.McMurray, TrackingSharks.com</td>\n",
       "      <td>2018.06.09-Denges.pdf</td>\n",
       "      <td>http://sharkattackfile.net/spreadsheets/pdf_di...</td>\n",
       "      <td>http://sharkattackfile.net/spreadsheets/pdf_di...</td>\n",
       "      <td>2018.06.09</td>\n",
       "      <td>2018.06.09</td>\n",
       "      <td>6301.0</td>\n",
       "      <td>NaN</td>\n",
       "      <td>NaN</td>\n",
       "    </tr>\n",
       "    <tr>\n",
       "      <th>3</th>\n",
       "      <td>2018.06.08</td>\n",
       "      <td>08-Jun-2018</td>\n",
       "      <td>2018.0</td>\n",
       "      <td>Unprovoked</td>\n",
       "      <td>AUSTRALIA</td>\n",
       "      <td>New South Wales</td>\n",
       "      <td>Arrawarra Headland</td>\n",
       "      <td>Surfing</td>\n",
       "      <td>male</td>\n",
       "      <td>M</td>\n",
       "      <td>...</td>\n",
       "      <td>2 m shark</td>\n",
       "      <td>B. Myatt, GSAF</td>\n",
       "      <td>2018.06.08-Arrawarra.pdf</td>\n",
       "      <td>http://sharkattackfile.net/spreadsheets/pdf_di...</td>\n",
       "      <td>http://sharkattackfile.net/spreadsheets/pdf_di...</td>\n",
       "      <td>2018.06.08</td>\n",
       "      <td>2018.06.08</td>\n",
       "      <td>6300.0</td>\n",
       "      <td>NaN</td>\n",
       "      <td>NaN</td>\n",
       "    </tr>\n",
       "    <tr>\n",
       "      <th>4</th>\n",
       "      <td>2018.06.04</td>\n",
       "      <td>04-Jun-2018</td>\n",
       "      <td>2018.0</td>\n",
       "      <td>Provoked</td>\n",
       "      <td>MEXICO</td>\n",
       "      <td>Colima</td>\n",
       "      <td>La Ticla</td>\n",
       "      <td>Free diving</td>\n",
       "      <td>Gustavo Ramos</td>\n",
       "      <td>M</td>\n",
       "      <td>...</td>\n",
       "      <td>Tiger shark, 3m</td>\n",
       "      <td>A .Kipper</td>\n",
       "      <td>2018.06.04-Ramos.pdf</td>\n",
       "      <td>http://sharkattackfile.net/spreadsheets/pdf_di...</td>\n",
       "      <td>http://sharkattackfile.net/spreadsheets/pdf_di...</td>\n",
       "      <td>2018.06.04</td>\n",
       "      <td>2018.06.04</td>\n",
       "      <td>6299.0</td>\n",
       "      <td>NaN</td>\n",
       "      <td>NaN</td>\n",
       "    </tr>\n",
       "  </tbody>\n",
       "</table>\n",
       "<p>5 rows × 24 columns</p>\n",
       "</div>"
      ],
      "text/plain": [
       "  Case Number         Date    Year        Type    Country             Area  \\\n",
       "0  2018.06.25  25-Jun-2018  2018.0     Boating        USA       California   \n",
       "1  2018.06.18  18-Jun-2018  2018.0  Unprovoked        USA          Georgia   \n",
       "2  2018.06.09  09-Jun-2018  2018.0     Invalid        USA           Hawaii   \n",
       "3  2018.06.08  08-Jun-2018  2018.0  Unprovoked  AUSTRALIA  New South Wales   \n",
       "4  2018.06.04  04-Jun-2018  2018.0    Provoked     MEXICO           Colima   \n",
       "\n",
       "                         Location     Activity             Name Sex   ...  \\\n",
       "0     Oceanside, San Diego County     Paddling      Julie Wolfe    F  ...   \n",
       "1  St. Simon Island, Glynn County     Standing  Adyson McNeely     F  ...   \n",
       "2                    Habush, Oahu      Surfing      John Denges    M  ...   \n",
       "3              Arrawarra Headland      Surfing             male    M  ...   \n",
       "4                        La Ticla  Free diving   Gustavo Ramos     M  ...   \n",
       "\n",
       "          Species           Investigator or Source                       pdf  \\\n",
       "0      White shark                R. Collier, GSAF      2018.06.25-Wolfe.pdf   \n",
       "1              NaN  K.McMurray, TrackingSharks.com    2018.06.18-McNeely.pdf   \n",
       "2              NaN  K.McMurray, TrackingSharks.com     2018.06.09-Denges.pdf   \n",
       "3        2 m shark                  B. Myatt, GSAF  2018.06.08-Arrawarra.pdf   \n",
       "4  Tiger shark, 3m                       A .Kipper      2018.06.04-Ramos.pdf   \n",
       "\n",
       "                                        href formula  \\\n",
       "0  http://sharkattackfile.net/spreadsheets/pdf_di...   \n",
       "1  http://sharkattackfile.net/spreadsheets/pdf_di...   \n",
       "2  http://sharkattackfile.net/spreadsheets/pdf_di...   \n",
       "3  http://sharkattackfile.net/spreadsheets/pdf_di...   \n",
       "4  http://sharkattackfile.net/spreadsheets/pdf_di...   \n",
       "\n",
       "                                                href Case Number.1  \\\n",
       "0  http://sharkattackfile.net/spreadsheets/pdf_di...    2018.06.25   \n",
       "1  http://sharkattackfile.net/spreadsheets/pdf_di...    2018.06.18   \n",
       "2  http://sharkattackfile.net/spreadsheets/pdf_di...    2018.06.09   \n",
       "3  http://sharkattackfile.net/spreadsheets/pdf_di...    2018.06.08   \n",
       "4  http://sharkattackfile.net/spreadsheets/pdf_di...    2018.06.04   \n",
       "\n",
       "  Case Number.2 original order Unnamed: 22 Unnamed: 23  \n",
       "0    2018.06.25         6303.0         NaN         NaN  \n",
       "1    2018.06.18         6302.0         NaN         NaN  \n",
       "2    2018.06.09         6301.0         NaN         NaN  \n",
       "3    2018.06.08         6300.0         NaN         NaN  \n",
       "4    2018.06.04         6299.0         NaN         NaN  \n",
       "\n",
       "[5 rows x 24 columns]"
      ]
     },
     "execution_count": 2,
     "metadata": {},
     "output_type": "execute_result"
    }
   ],
   "source": [
    "sharks = pd.read_csv('./data/attacks.csv', encoding = 'ISO - 8859-1')\n",
    "sharks.head()"
   ]
  },
  {
   "cell_type": "markdown",
   "metadata": {},
   "source": [
    "#### El dataset 'attacks' tiene 25723 filas y 24 columnas"
   ]
  },
  {
   "cell_type": "code",
   "execution_count": 3,
   "metadata": {
    "scrolled": true
   },
   "outputs": [
    {
     "data": {
      "text/plain": [
       "(25723, 24)"
      ]
     },
     "execution_count": 3,
     "metadata": {},
     "output_type": "execute_result"
    }
   ],
   "source": [
    "sharks.shape"
   ]
  },
  {
   "cell_type": "markdown",
   "metadata": {},
   "source": [
    "# 3. Hipotesis: ¿en qué país han atacado más tiburones?\n",
    "Analizaré los datos teniendo en cuenta:\n",
    "  \n",
    "    - Sexo\n",
    "    - Edad "
   ]
  },
  {
   "cell_type": "code",
   "execution_count": 4,
   "metadata": {},
   "outputs": [],
   "source": [
    "#Muestro las columnas"
   ]
  },
  {
   "cell_type": "code",
   "execution_count": 5,
   "metadata": {
    "scrolled": true
   },
   "outputs": [
    {
     "data": {
      "text/plain": [
       "Index(['Case Number', 'Date', 'Year', 'Type', 'Country', 'Area', 'Location',\n",
       "       'Activity', 'Name', 'Sex ', 'Age', 'Injury', 'Fatal (Y/N)', 'Time',\n",
       "       'Species ', 'Investigator or Source', 'pdf', 'href formula', 'href',\n",
       "       'Case Number.1', 'Case Number.2', 'original order', 'Unnamed: 22',\n",
       "       'Unnamed: 23'],\n",
       "      dtype='object')"
      ]
     },
     "execution_count": 5,
     "metadata": {},
     "output_type": "execute_result"
    }
   ],
   "source": [
    "sharks.columns"
   ]
  },
  {
   "cell_type": "code",
   "execution_count": 6,
   "metadata": {},
   "outputs": [],
   "source": [
    "# Elimino las columnas que no me interesan, para ello antes tengo que quitar los espacios, sino hay varias columnas que no me las detecta."
   ]
  },
  {
   "cell_type": "code",
   "execution_count": 7,
   "metadata": {
    "scrolled": true
   },
   "outputs": [
    {
     "data": {
      "text/plain": [
       "Index(['Case Number', 'Date', 'Year', 'Type', 'Country', 'Area', 'Location',\n",
       "       'Activity', 'Name', 'Sex', 'Age', 'Injury', 'Fatal (Y/N)', 'Time',\n",
       "       'Species', 'Investigator or Source', 'pdf', 'href formula', 'href',\n",
       "       'Case Number.1', 'Case Number.2', 'original order', 'Unnamed: 22',\n",
       "       'Unnamed: 23'],\n",
       "      dtype='object')"
      ]
     },
     "execution_count": 7,
     "metadata": {},
     "output_type": "execute_result"
    }
   ],
   "source": [
    "sharks.columns = sharks.columns.str.rstrip()\n",
    "sharks.columns"
   ]
  },
  {
   "cell_type": "code",
   "execution_count": 8,
   "metadata": {
    "scrolled": true
   },
   "outputs": [],
   "source": [
    "sharks = sharks.drop(['Time','pdf','href formula', 'href', 'Case Number.1', 'Case Number.2', 'original order', 'Unnamed: 22', 'Unnamed: 23', 'Investigator or Source', 'Type', 'Date', 'Case Number', 'Species', 'Area', 'Location'], axis = 1 )"
   ]
  },
  {
   "cell_type": "code",
   "execution_count": 9,
   "metadata": {
    "scrolled": true
   },
   "outputs": [
    {
     "data": {
      "text/plain": [
       "(25723, 8)"
      ]
     },
     "execution_count": 9,
     "metadata": {},
     "output_type": "execute_result"
    }
   ],
   "source": [
    "sharks.shape"
   ]
  },
  {
   "cell_type": "code",
   "execution_count": 10,
   "metadata": {
    "scrolled": true
   },
   "outputs": [
    {
     "data": {
      "text/html": [
       "<div>\n",
       "<style scoped>\n",
       "    .dataframe tbody tr th:only-of-type {\n",
       "        vertical-align: middle;\n",
       "    }\n",
       "\n",
       "    .dataframe tbody tr th {\n",
       "        vertical-align: top;\n",
       "    }\n",
       "\n",
       "    .dataframe thead th {\n",
       "        text-align: right;\n",
       "    }\n",
       "</style>\n",
       "<table border=\"1\" class=\"dataframe\">\n",
       "  <thead>\n",
       "    <tr style=\"text-align: right;\">\n",
       "      <th></th>\n",
       "      <th>Year</th>\n",
       "      <th>Country</th>\n",
       "      <th>Activity</th>\n",
       "      <th>Name</th>\n",
       "      <th>Sex</th>\n",
       "      <th>Age</th>\n",
       "      <th>Injury</th>\n",
       "      <th>Fatal (Y/N)</th>\n",
       "    </tr>\n",
       "  </thead>\n",
       "  <tbody>\n",
       "    <tr>\n",
       "      <th>0</th>\n",
       "      <td>2018.0</td>\n",
       "      <td>USA</td>\n",
       "      <td>Paddling</td>\n",
       "      <td>Julie Wolfe</td>\n",
       "      <td>F</td>\n",
       "      <td>57</td>\n",
       "      <td>No injury to occupant, outrigger canoe and pad...</td>\n",
       "      <td>N</td>\n",
       "    </tr>\n",
       "    <tr>\n",
       "      <th>1</th>\n",
       "      <td>2018.0</td>\n",
       "      <td>USA</td>\n",
       "      <td>Standing</td>\n",
       "      <td>Adyson McNeely</td>\n",
       "      <td>F</td>\n",
       "      <td>11</td>\n",
       "      <td>Minor injury to left thigh</td>\n",
       "      <td>N</td>\n",
       "    </tr>\n",
       "    <tr>\n",
       "      <th>2</th>\n",
       "      <td>2018.0</td>\n",
       "      <td>USA</td>\n",
       "      <td>Surfing</td>\n",
       "      <td>John Denges</td>\n",
       "      <td>M</td>\n",
       "      <td>48</td>\n",
       "      <td>Injury to left lower leg from surfboard skeg</td>\n",
       "      <td>N</td>\n",
       "    </tr>\n",
       "    <tr>\n",
       "      <th>3</th>\n",
       "      <td>2018.0</td>\n",
       "      <td>AUSTRALIA</td>\n",
       "      <td>Surfing</td>\n",
       "      <td>male</td>\n",
       "      <td>M</td>\n",
       "      <td>NaN</td>\n",
       "      <td>Minor injury to lower leg</td>\n",
       "      <td>N</td>\n",
       "    </tr>\n",
       "    <tr>\n",
       "      <th>4</th>\n",
       "      <td>2018.0</td>\n",
       "      <td>MEXICO</td>\n",
       "      <td>Free diving</td>\n",
       "      <td>Gustavo Ramos</td>\n",
       "      <td>M</td>\n",
       "      <td>NaN</td>\n",
       "      <td>Lacerations to leg &amp; hand shark PROVOKED INCIDENT</td>\n",
       "      <td>N</td>\n",
       "    </tr>\n",
       "  </tbody>\n",
       "</table>\n",
       "</div>"
      ],
      "text/plain": [
       "     Year    Country     Activity             Name Sex  Age  \\\n",
       "0  2018.0        USA     Paddling      Julie Wolfe   F   57   \n",
       "1  2018.0        USA     Standing  Adyson McNeely    F   11   \n",
       "2  2018.0        USA      Surfing      John Denges   M   48   \n",
       "3  2018.0  AUSTRALIA      Surfing             male   M  NaN   \n",
       "4  2018.0     MEXICO  Free diving   Gustavo Ramos    M  NaN   \n",
       "\n",
       "                                              Injury Fatal (Y/N)  \n",
       "0  No injury to occupant, outrigger canoe and pad...           N  \n",
       "1                         Minor injury to left thigh           N  \n",
       "2       Injury to left lower leg from surfboard skeg           N  \n",
       "3                          Minor injury to lower leg           N  \n",
       "4  Lacerations to leg & hand shark PROVOKED INCIDENT           N  "
      ]
     },
     "execution_count": 10,
     "metadata": {},
     "output_type": "execute_result"
    }
   ],
   "source": [
    "sharks.head()"
   ]
  },
  {
   "cell_type": "code",
   "execution_count": 11,
   "metadata": {},
   "outputs": [],
   "source": [
    "#Compruebo los datos nulos y los elimino."
   ]
  },
  {
   "cell_type": "code",
   "execution_count": 12,
   "metadata": {
    "scrolled": true
   },
   "outputs": [
    {
     "data": {
      "text/plain": [
       "Age            22252\n",
       "Sex            19986\n",
       "Activity       19965\n",
       "Fatal (Y/N)    19960\n",
       "Name           19631\n",
       "Country        19471\n",
       "Injury         19449\n",
       "Year           19423\n",
       "dtype: int64"
      ]
     },
     "execution_count": 12,
     "metadata": {},
     "output_type": "execute_result"
    }
   ],
   "source": [
    "sharks.isnull().sum().sort_values(ascending=False)"
   ]
  },
  {
   "cell_type": "code",
   "execution_count": 13,
   "metadata": {
    "scrolled": true
   },
   "outputs": [
    {
     "data": {
      "text/html": [
       "<div>\n",
       "<style scoped>\n",
       "    .dataframe tbody tr th:only-of-type {\n",
       "        vertical-align: middle;\n",
       "    }\n",
       "\n",
       "    .dataframe tbody tr th {\n",
       "        vertical-align: top;\n",
       "    }\n",
       "\n",
       "    .dataframe thead th {\n",
       "        text-align: right;\n",
       "    }\n",
       "</style>\n",
       "<table border=\"1\" class=\"dataframe\">\n",
       "  <thead>\n",
       "    <tr style=\"text-align: right;\">\n",
       "      <th></th>\n",
       "      <th>Year</th>\n",
       "      <th>Country</th>\n",
       "      <th>Activity</th>\n",
       "      <th>Name</th>\n",
       "      <th>Sex</th>\n",
       "      <th>Age</th>\n",
       "      <th>Injury</th>\n",
       "      <th>Fatal (Y/N)</th>\n",
       "    </tr>\n",
       "  </thead>\n",
       "  <tbody>\n",
       "    <tr>\n",
       "      <th>0</th>\n",
       "      <td>2018.0</td>\n",
       "      <td>USA</td>\n",
       "      <td>Paddling</td>\n",
       "      <td>Julie Wolfe</td>\n",
       "      <td>F</td>\n",
       "      <td>57</td>\n",
       "      <td>No injury to occupant, outrigger canoe and pad...</td>\n",
       "      <td>N</td>\n",
       "    </tr>\n",
       "    <tr>\n",
       "      <th>1</th>\n",
       "      <td>2018.0</td>\n",
       "      <td>USA</td>\n",
       "      <td>Standing</td>\n",
       "      <td>Adyson McNeely</td>\n",
       "      <td>F</td>\n",
       "      <td>11</td>\n",
       "      <td>Minor injury to left thigh</td>\n",
       "      <td>N</td>\n",
       "    </tr>\n",
       "    <tr>\n",
       "      <th>2</th>\n",
       "      <td>2018.0</td>\n",
       "      <td>USA</td>\n",
       "      <td>Surfing</td>\n",
       "      <td>John Denges</td>\n",
       "      <td>M</td>\n",
       "      <td>48</td>\n",
       "      <td>Injury to left lower leg from surfboard skeg</td>\n",
       "      <td>N</td>\n",
       "    </tr>\n",
       "    <tr>\n",
       "      <th>6</th>\n",
       "      <td>2018.0</td>\n",
       "      <td>BRAZIL</td>\n",
       "      <td>Swimming</td>\n",
       "      <td>Jose Ernesto da Silva</td>\n",
       "      <td>M</td>\n",
       "      <td>18</td>\n",
       "      <td>FATAL</td>\n",
       "      <td>Y</td>\n",
       "    </tr>\n",
       "    <tr>\n",
       "      <th>7</th>\n",
       "      <td>2018.0</td>\n",
       "      <td>USA</td>\n",
       "      <td>Fishing</td>\n",
       "      <td>male</td>\n",
       "      <td>M</td>\n",
       "      <td>52</td>\n",
       "      <td>Minor injury to foot. PROVOKED INCIDENT</td>\n",
       "      <td>N</td>\n",
       "    </tr>\n",
       "    <tr>\n",
       "      <th>...</th>\n",
       "      <td>...</td>\n",
       "      <td>...</td>\n",
       "      <td>...</td>\n",
       "      <td>...</td>\n",
       "      <td>...</td>\n",
       "      <td>...</td>\n",
       "      <td>...</td>\n",
       "      <td>...</td>\n",
       "    </tr>\n",
       "    <tr>\n",
       "      <th>6243</th>\n",
       "      <td>0.0</td>\n",
       "      <td>IRAQ</td>\n",
       "      <td>Swimming in section of river used for washing ...</td>\n",
       "      <td>male</td>\n",
       "      <td>M</td>\n",
       "      <td>16</td>\n",
       "      <td>Right leg lacerated &amp; surgically amputated</td>\n",
       "      <td>N</td>\n",
       "    </tr>\n",
       "    <tr>\n",
       "      <th>6254</th>\n",
       "      <td>0.0</td>\n",
       "      <td>CUBA</td>\n",
       "      <td>Shark fishing, knocked overboard</td>\n",
       "      <td>Sandrillio</td>\n",
       "      <td>M</td>\n",
       "      <td>50</td>\n",
       "      <td>FATAL, hip bitten  PROVOKED INCIDENT</td>\n",
       "      <td>Y</td>\n",
       "    </tr>\n",
       "    <tr>\n",
       "      <th>6265</th>\n",
       "      <td>0.0</td>\n",
       "      <td>IRAQ</td>\n",
       "      <td>Swimming</td>\n",
       "      <td>male</td>\n",
       "      <td>M</td>\n",
       "      <td>13 or 14</td>\n",
       "      <td>FATAL, left leg bitten with severe blood loss</td>\n",
       "      <td>Y</td>\n",
       "    </tr>\n",
       "    <tr>\n",
       "      <th>6276</th>\n",
       "      <td>0.0</td>\n",
       "      <td>BELIZE</td>\n",
       "      <td>Standing</td>\n",
       "      <td>a servant</td>\n",
       "      <td>M</td>\n",
       "      <td>16</td>\n",
       "      <td>FATAL</td>\n",
       "      <td>Y</td>\n",
       "    </tr>\n",
       "    <tr>\n",
       "      <th>6301</th>\n",
       "      <td>0.0</td>\n",
       "      <td>CEYLON (SRI LANKA)</td>\n",
       "      <td>Swimming</td>\n",
       "      <td>male</td>\n",
       "      <td>M</td>\n",
       "      <td>15</td>\n",
       "      <td>FATAL. \"Shark bit him in half, carrying away t...</td>\n",
       "      <td>Y</td>\n",
       "    </tr>\n",
       "  </tbody>\n",
       "</table>\n",
       "<p>3091 rows × 8 columns</p>\n",
       "</div>"
      ],
      "text/plain": [
       "        Year             Country  \\\n",
       "0     2018.0                 USA   \n",
       "1     2018.0                 USA   \n",
       "2     2018.0                 USA   \n",
       "6     2018.0              BRAZIL   \n",
       "7     2018.0                 USA   \n",
       "...      ...                 ...   \n",
       "6243     0.0                IRAQ   \n",
       "6254     0.0                CUBA   \n",
       "6265     0.0                IRAQ   \n",
       "6276     0.0              BELIZE   \n",
       "6301     0.0  CEYLON (SRI LANKA)   \n",
       "\n",
       "                                               Activity  \\\n",
       "0                                              Paddling   \n",
       "1                                              Standing   \n",
       "2                                               Surfing   \n",
       "6                                              Swimming   \n",
       "7                                               Fishing   \n",
       "...                                                 ...   \n",
       "6243  Swimming in section of river used for washing ...   \n",
       "6254                   Shark fishing, knocked overboard   \n",
       "6265                                           Swimming   \n",
       "6276                                           Standing   \n",
       "6301                                           Swimming   \n",
       "\n",
       "                        Name Sex       Age  \\\n",
       "0                Julie Wolfe   F        57   \n",
       "1            Adyson McNeely    F        11   \n",
       "2                John Denges   M        48   \n",
       "6     Jose Ernesto da Silva    M        18   \n",
       "7                       male   M        52   \n",
       "...                      ...  ..       ...   \n",
       "6243                    male   M        16   \n",
       "6254              Sandrillio   M        50   \n",
       "6265                    male   M  13 or 14   \n",
       "6276               a servant   M        16   \n",
       "6301                    male   M        15   \n",
       "\n",
       "                                                 Injury Fatal (Y/N)  \n",
       "0     No injury to occupant, outrigger canoe and pad...           N  \n",
       "1                            Minor injury to left thigh           N  \n",
       "2          Injury to left lower leg from surfboard skeg           N  \n",
       "6                                                 FATAL           Y  \n",
       "7               Minor injury to foot. PROVOKED INCIDENT           N  \n",
       "...                                                 ...         ...  \n",
       "6243         Right leg lacerated & surgically amputated           N  \n",
       "6254               FATAL, hip bitten  PROVOKED INCIDENT           Y  \n",
       "6265      FATAL, left leg bitten with severe blood loss           Y  \n",
       "6276                                              FATAL           Y  \n",
       "6301  FATAL. \"Shark bit him in half, carrying away t...           Y  \n",
       "\n",
       "[3091 rows x 8 columns]"
      ]
     },
     "execution_count": 13,
     "metadata": {},
     "output_type": "execute_result"
    }
   ],
   "source": [
    "sharks.dropna()"
   ]
  },
  {
   "cell_type": "code",
   "execution_count": 14,
   "metadata": {},
   "outputs": [],
   "source": [
    "#Voy a trabajar con una dataset de 3091 filas y 8 columnas"
   ]
  },
  {
   "cell_type": "code",
   "execution_count": 15,
   "metadata": {},
   "outputs": [],
   "source": [
    "#Compruebo los Países y confirmo los que tienen más ataques."
   ]
  },
  {
   "cell_type": "code",
   "execution_count": 16,
   "metadata": {
    "scrolled": true
   },
   "outputs": [
    {
     "data": {
      "text/plain": [
       "array(['USA', 'AUSTRALIA', 'MEXICO', 'BRAZIL', 'ENGLAND', 'SOUTH AFRICA',\n",
       "       'THAILAND', 'COSTA RICA', 'MALDIVES', 'BAHAMAS', 'NEW CALEDONIA',\n",
       "       'ECUADOR', 'MALAYSIA', 'LIBYA', nan, 'CUBA', 'MAURITIUS',\n",
       "       'NEW ZEALAND', 'SPAIN', 'SAMOA', 'SOLOMON ISLANDS', 'JAPAN',\n",
       "       'EGYPT', 'ST HELENA, British overseas territory', 'COMOROS',\n",
       "       'REUNION', 'FRENCH POLYNESIA', 'UNITED KINGDOM',\n",
       "       'UNITED ARAB EMIRATES', 'PHILIPPINES', 'INDONESIA', 'CHINA',\n",
       "       'COLUMBIA', 'CAPE VERDE', 'Fiji', 'DOMINICAN REPUBLIC',\n",
       "       'CAYMAN ISLANDS', 'ARUBA', 'MOZAMBIQUE', 'FIJI', 'PUERTO RICO',\n",
       "       'ITALY', 'ATLANTIC OCEAN', 'GREECE', 'ST. MARTIN', 'FRANCE',\n",
       "       'PAPUA NEW GUINEA', 'TRINIDAD & TOBAGO', 'KIRIBATI', 'ISRAEL',\n",
       "       'DIEGO GARCIA', 'TAIWAN', 'JAMAICA', 'PALESTINIAN TERRITORIES',\n",
       "       'GUAM', 'SEYCHELLES', 'BELIZE', 'NIGERIA', 'TONGA', 'SCOTLAND',\n",
       "       'CANADA', 'CROATIA', 'SAUDI ARABIA', 'CHILE', 'ANTIGUA', 'KENYA',\n",
       "       'RUSSIA', 'TURKS & CAICOS', 'UNITED ARAB EMIRATES (UAE)', 'AZORES',\n",
       "       'SOUTH KOREA', 'MALTA', 'VIETNAM', 'MADAGASCAR', 'PANAMA',\n",
       "       'SOMALIA', 'NEVIS', 'BRITISH VIRGIN ISLANDS', 'NORWAY', 'SENEGAL',\n",
       "       'YEMEN', 'GULF OF ADEN', 'Sierra Leone', 'ST. MAARTIN',\n",
       "       'GRAND CAYMAN', 'Seychelles', 'LIBERIA', 'VANUATU', 'MEXICO ',\n",
       "       'HONDURAS', 'VENEZUELA', 'SRI LANKA', ' TONGA', 'URUGUAY', 'INDIA',\n",
       "       'MICRONESIA', 'CARIBBEAN SEA', 'OKINAWA', 'TANZANIA',\n",
       "       'MARSHALL ISLANDS', 'EGYPT / ISRAEL', 'NORTHERN ARABIAN SEA',\n",
       "       'HONG KONG', 'EL SALVADOR', 'ANGOLA', 'BERMUDA', 'MONTENEGRO',\n",
       "       'IRAN', 'TUNISIA', 'NAMIBIA', 'NORTH ATLANTIC OCEAN', 'PORTUGAL',\n",
       "       'SOUTH CHINA SEA', 'BANGLADESH', 'PALAU', 'WESTERN SAMOA',\n",
       "       'PACIFIC OCEAN ', 'BRITISH ISLES', 'GRENADA', 'IRAQ', 'TURKEY',\n",
       "       'SINGAPORE', 'NEW BRITAIN', 'SUDAN', 'JOHNSTON ISLAND',\n",
       "       'SOUTH PACIFIC OCEAN', 'NEW GUINEA', 'RED SEA',\n",
       "       'NORTH PACIFIC OCEAN', 'FEDERATED STATES OF MICRONESIA',\n",
       "       'MID ATLANTIC OCEAN', 'ADMIRALTY ISLANDS', 'BRITISH WEST INDIES',\n",
       "       'SOUTH ATLANTIC OCEAN', 'PERSIAN GULF', 'RED SEA / INDIAN OCEAN',\n",
       "       'PACIFIC OCEAN', 'NORTH SEA', 'NICARAGUA ', 'MALDIVE ISLANDS',\n",
       "       'AMERICAN SAMOA', 'ANDAMAN / NICOBAR ISLANDAS', 'GABON', 'MAYOTTE',\n",
       "       'NORTH ATLANTIC OCEAN ', 'THE BALKANS', 'SUDAN?', 'ARGENTINA',\n",
       "       'MARTINIQUE', 'INDIAN OCEAN', 'GUATEMALA', 'NETHERLANDS ANTILLES',\n",
       "       'NORTHERN MARIANA ISLANDS', 'IRAN / IRAQ', 'JAVA', 'SIERRA LEONE',\n",
       "       ' PHILIPPINES', 'NICARAGUA', 'CENTRAL PACIFIC',\n",
       "       'SOLOMON ISLANDS / VANUATU', 'SOUTHWEST PACIFIC OCEAN',\n",
       "       'BAY OF BENGAL', 'MID-PACIFC OCEAN', 'SLOVENIA', 'CURACAO',\n",
       "       'ICELAND', 'ITALY / CROATIA', 'BARBADOS', 'MONACO', 'GUYANA',\n",
       "       'HAITI', 'SAN DOMINGO', 'IRELAND', 'KUWAIT', 'YEMEN ',\n",
       "       'REUNION ISLAND', 'FALKLAND ISLANDS', 'CRETE', 'CYPRUS', 'EGYPT ',\n",
       "       'WEST INDIES', 'BURMA', 'LEBANON', 'PARAGUAY',\n",
       "       'BRITISH NEW GUINEA', 'CEYLON', 'OCEAN', 'GEORGIA', 'SYRIA',\n",
       "       'TUVALU', 'INDIAN OCEAN?', 'GUINEA', 'ANDAMAN ISLANDS',\n",
       "       'EQUATORIAL GUINEA / CAMEROON', 'COOK ISLANDS', 'TOBAGO', 'PERU',\n",
       "       'AFRICA', 'ALGERIA', 'Coast of AFRICA', 'TASMAN SEA', 'GHANA',\n",
       "       'GREENLAND', 'MEDITERRANEAN SEA', 'SWEDEN', 'ROATAN',\n",
       "       'Between PORTUGAL & INDIA', 'DJIBOUTI', 'BAHREIN', 'KOREA',\n",
       "       'RED SEA?', 'ASIA?', 'CEYLON (SRI LANKA)'], dtype=object)"
      ]
     },
     "execution_count": 16,
     "metadata": {},
     "output_type": "execute_result"
    }
   ],
   "source": [
    "sharks['Country'].unique()"
   ]
  },
  {
   "cell_type": "code",
   "execution_count": 17,
   "metadata": {
    "scrolled": true
   },
   "outputs": [
    {
     "data": {
      "text/plain": [
       "USA                 2229\n",
       "AUSTRALIA           1338\n",
       "SOUTH AFRICA         579\n",
       "PAPUA NEW GUINEA     134\n",
       "NEW ZEALAND          128\n",
       "                    ... \n",
       "SOUTH CHINA SEA        1\n",
       "RED SEA                1\n",
       "EGYPT / ISRAEL         1\n",
       "INDIAN OCEAN?          1\n",
       "ST. MARTIN             1\n",
       "Name: Country, Length: 212, dtype: int64"
      ]
     },
     "execution_count": 17,
     "metadata": {},
     "output_type": "execute_result"
    }
   ],
   "source": [
    "sharks['Country'].value_counts()\n",
    "#Hay 212 países."
   ]
  },
  {
   "cell_type": "code",
   "execution_count": 18,
   "metadata": {},
   "outputs": [
    {
     "data": {
      "image/png": "[encoded data removed]",
      "text/plain": [
       "<Figure size 360x720 with 1 Axes>"
      ]
     },
     "metadata": {},
     "output_type": "display_data"
    }
   ],
   "source": [
    "#Creo un gráfico y muestro el top 5.\n",
    "top5 = sharks[\"Country\"].value_counts().nlargest(5).plot.pie(figsize = (5,10), title = \" Top 5 countries with more attacks\")\n",
    "top5.figure.savefig('output/top5countries.png')"
   ]
  },
  {
   "cell_type": "code",
   "execution_count": 19,
   "metadata": {
    "scrolled": true
   },
   "outputs": [
    {
     "data": {
      "text/html": [
       "<div>\n",
       "<style scoped>\n",
       "    .dataframe tbody tr th:only-of-type {\n",
       "        vertical-align: middle;\n",
       "    }\n",
       "\n",
       "    .dataframe tbody tr th {\n",
       "        vertical-align: top;\n",
       "    }\n",
       "\n",
       "    .dataframe thead th {\n",
       "        text-align: right;\n",
       "    }\n",
       "</style>\n",
       "<table border=\"1\" class=\"dataframe\">\n",
       "  <thead>\n",
       "    <tr style=\"text-align: right;\">\n",
       "      <th></th>\n",
       "      <th>Year</th>\n",
       "      <th>Country</th>\n",
       "      <th>Activity</th>\n",
       "      <th>Name</th>\n",
       "      <th>Sex</th>\n",
       "      <th>Age</th>\n",
       "      <th>Injury</th>\n",
       "      <th>Fatal (Y/N)</th>\n",
       "    </tr>\n",
       "  </thead>\n",
       "  <tbody>\n",
       "    <tr>\n",
       "      <th>0</th>\n",
       "      <td>2018.0</td>\n",
       "      <td>USA</td>\n",
       "      <td>Paddling</td>\n",
       "      <td>Julie Wolfe</td>\n",
       "      <td>F</td>\n",
       "      <td>57</td>\n",
       "      <td>No injury to occupant, outrigger canoe and pad...</td>\n",
       "      <td>N</td>\n",
       "    </tr>\n",
       "    <tr>\n",
       "      <th>1</th>\n",
       "      <td>2018.0</td>\n",
       "      <td>USA</td>\n",
       "      <td>Standing</td>\n",
       "      <td>Adyson McNeely</td>\n",
       "      <td>F</td>\n",
       "      <td>11</td>\n",
       "      <td>Minor injury to left thigh</td>\n",
       "      <td>N</td>\n",
       "    </tr>\n",
       "    <tr>\n",
       "      <th>2</th>\n",
       "      <td>2018.0</td>\n",
       "      <td>USA</td>\n",
       "      <td>Surfing</td>\n",
       "      <td>John Denges</td>\n",
       "      <td>M</td>\n",
       "      <td>48</td>\n",
       "      <td>Injury to left lower leg from surfboard skeg</td>\n",
       "      <td>N</td>\n",
       "    </tr>\n",
       "    <tr>\n",
       "      <th>7</th>\n",
       "      <td>2018.0</td>\n",
       "      <td>USA</td>\n",
       "      <td>Fishing</td>\n",
       "      <td>male</td>\n",
       "      <td>M</td>\n",
       "      <td>52</td>\n",
       "      <td>Minor injury to foot. PROVOKED INCIDENT</td>\n",
       "      <td>N</td>\n",
       "    </tr>\n",
       "    <tr>\n",
       "      <th>8</th>\n",
       "      <td>2018.0</td>\n",
       "      <td>USA</td>\n",
       "      <td>Walking</td>\n",
       "      <td>Cody High</td>\n",
       "      <td>M</td>\n",
       "      <td>15</td>\n",
       "      <td>Lower left leg bitten</td>\n",
       "      <td>N</td>\n",
       "    </tr>\n",
       "    <tr>\n",
       "      <th>...</th>\n",
       "      <td>...</td>\n",
       "      <td>...</td>\n",
       "      <td>...</td>\n",
       "      <td>...</td>\n",
       "      <td>...</td>\n",
       "      <td>...</td>\n",
       "      <td>...</td>\n",
       "      <td>...</td>\n",
       "    </tr>\n",
       "    <tr>\n",
       "      <th>6249</th>\n",
       "      <td>0.0</td>\n",
       "      <td>USA</td>\n",
       "      <td>Standing</td>\n",
       "      <td>Horton Chase</td>\n",
       "      <td>M</td>\n",
       "      <td>NaN</td>\n",
       "      <td>Abrasions &amp; bruises hip to ankle</td>\n",
       "      <td>N</td>\n",
       "    </tr>\n",
       "    <tr>\n",
       "      <th>6283</th>\n",
       "      <td>0.0</td>\n",
       "      <td>USA</td>\n",
       "      <td>Fishing</td>\n",
       "      <td>James Kelley</td>\n",
       "      <td>M</td>\n",
       "      <td>NaN</td>\n",
       "      <td>2-inch lacerations</td>\n",
       "      <td>N</td>\n",
       "    </tr>\n",
       "    <tr>\n",
       "      <th>6288</th>\n",
       "      <td>0.0</td>\n",
       "      <td>USA</td>\n",
       "      <td>Swimming</td>\n",
       "      <td>\"youthful male\"</td>\n",
       "      <td>M</td>\n",
       "      <td>NaN</td>\n",
       "      <td>\"Lost leg\"</td>\n",
       "      <td>N</td>\n",
       "    </tr>\n",
       "    <tr>\n",
       "      <th>6292</th>\n",
       "      <td>0.0</td>\n",
       "      <td>USA</td>\n",
       "      <td>NaN</td>\n",
       "      <td>A \"chiefess\"</td>\n",
       "      <td>F</td>\n",
       "      <td>NaN</td>\n",
       "      <td>Ankle bitten</td>\n",
       "      <td>N</td>\n",
       "    </tr>\n",
       "    <tr>\n",
       "      <th>6299</th>\n",
       "      <td>0.0</td>\n",
       "      <td>USA</td>\n",
       "      <td>Swimming</td>\n",
       "      <td>Coast Guard personnel</td>\n",
       "      <td>M</td>\n",
       "      <td>NaN</td>\n",
       "      <td>FATAL</td>\n",
       "      <td>Y</td>\n",
       "    </tr>\n",
       "  </tbody>\n",
       "</table>\n",
       "<p>2229 rows × 8 columns</p>\n",
       "</div>"
      ],
      "text/plain": [
       "        Year Country  Activity                   Name Sex  Age  \\\n",
       "0     2018.0     USA  Paddling            Julie Wolfe   F   57   \n",
       "1     2018.0     USA  Standing        Adyson McNeely    F   11   \n",
       "2     2018.0     USA   Surfing            John Denges   M   48   \n",
       "7     2018.0     USA   Fishing                   male   M   52   \n",
       "8     2018.0     USA   Walking              Cody High   M   15   \n",
       "...      ...     ...       ...                    ...  ..  ...   \n",
       "6249     0.0     USA  Standing           Horton Chase   M  NaN   \n",
       "6283     0.0     USA   Fishing           James Kelley   M  NaN   \n",
       "6288     0.0     USA  Swimming        \"youthful male\"   M  NaN   \n",
       "6292     0.0     USA       NaN           A \"chiefess\"   F  NaN   \n",
       "6299     0.0     USA  Swimming  Coast Guard personnel   M  NaN   \n",
       "\n",
       "                                                 Injury Fatal (Y/N)  \n",
       "0     No injury to occupant, outrigger canoe and pad...           N  \n",
       "1                            Minor injury to left thigh           N  \n",
       "2          Injury to left lower leg from surfboard skeg           N  \n",
       "7               Minor injury to foot. PROVOKED INCIDENT           N  \n",
       "8                                 Lower left leg bitten           N  \n",
       "...                                                 ...         ...  \n",
       "6249                   Abrasions & bruises hip to ankle           N  \n",
       "6283                                 2-inch lacerations           N  \n",
       "6288                                         \"Lost leg\"           N  \n",
       "6292                                       Ankle bitten           N  \n",
       "6299                                              FATAL           Y  \n",
       "\n",
       "[2229 rows x 8 columns]"
      ]
     },
     "execution_count": 19,
     "metadata": {},
     "output_type": "execute_result"
    }
   ],
   "source": [
    "#Ahora que ya sé que USA es el país con más ataques agrupo los datos por el país y lo muestro.\n",
    "sharks.groupby(['Country']).get_group('USA')"
   ]
  },
  {
   "cell_type": "markdown",
   "metadata": {},
   "source": [
    "## El país con más ataques es USA. "
   ]
  },
  {
   "cell_type": "code",
   "execution_count": 20,
   "metadata": {
    "scrolled": true
   },
   "outputs": [
    {
     "data": {
      "text/html": [
       "<div>\n",
       "<style scoped>\n",
       "    .dataframe tbody tr th:only-of-type {\n",
       "        vertical-align: middle;\n",
       "    }\n",
       "\n",
       "    .dataframe tbody tr th {\n",
       "        vertical-align: top;\n",
       "    }\n",
       "\n",
       "    .dataframe thead th {\n",
       "        text-align: right;\n",
       "    }\n",
       "</style>\n",
       "<table border=\"1\" class=\"dataframe\">\n",
       "  <thead>\n",
       "    <tr style=\"text-align: right;\">\n",
       "      <th></th>\n",
       "      <th>Year</th>\n",
       "      <th>Country</th>\n",
       "      <th>Activity</th>\n",
       "      <th>Name</th>\n",
       "      <th>Sex</th>\n",
       "      <th>Age</th>\n",
       "      <th>Injury</th>\n",
       "      <th>Fatal (Y/N)</th>\n",
       "    </tr>\n",
       "  </thead>\n",
       "  <tbody>\n",
       "    <tr>\n",
       "      <th>1216</th>\n",
       "      <td>2008.0</td>\n",
       "      <td>USA</td>\n",
       "      <td>Swimming, towing surfboard</td>\n",
       "      <td>Jacob Shoup</td>\n",
       "      <td>M</td>\n",
       "      <td>20</td>\n",
       "      <td>Minor injury to left foot</td>\n",
       "      <td>N</td>\n",
       "    </tr>\n",
       "    <tr>\n",
       "      <th>2968</th>\n",
       "      <td>1982.0</td>\n",
       "      <td>USA</td>\n",
       "      <td>Surfing</td>\n",
       "      <td>John Buchanan</td>\n",
       "      <td>M</td>\n",
       "      <td>17</td>\n",
       "      <td>No Injury, board bitten</td>\n",
       "      <td>NaN</td>\n",
       "    </tr>\n",
       "    <tr>\n",
       "      <th>5719</th>\n",
       "      <td>1889.0</td>\n",
       "      <td>USA</td>\n",
       "      <td>Fishing</td>\n",
       "      <td>rowboat,</td>\n",
       "      <td>NaN</td>\n",
       "      <td>NaN</td>\n",
       "      <td>No injury to occupants. Gaffed shark capsized ...</td>\n",
       "      <td>N</td>\n",
       "    </tr>\n",
       "    <tr>\n",
       "      <th>2504</th>\n",
       "      <td>1993.0</td>\n",
       "      <td>USA</td>\n",
       "      <td>Free diving &amp; spearfishing (ascending)</td>\n",
       "      <td>Don Berry</td>\n",
       "      <td>M</td>\n",
       "      <td>55</td>\n",
       "      <td>No injury, swim fin bitten</td>\n",
       "      <td>N</td>\n",
       "    </tr>\n",
       "    <tr>\n",
       "      <th>4320</th>\n",
       "      <td>1954.0</td>\n",
       "      <td>USA</td>\n",
       "      <td>Spearfishing</td>\n",
       "      <td>James L. Oetzel</td>\n",
       "      <td>M</td>\n",
       "      <td>NaN</td>\n",
       "      <td>Shoulder bitten</td>\n",
       "      <td>N</td>\n",
       "    </tr>\n",
       "    <tr>\n",
       "      <th>5911</th>\n",
       "      <td>1870.0</td>\n",
       "      <td>USA</td>\n",
       "      <td>Bathing</td>\n",
       "      <td>Giles Gordon</td>\n",
       "      <td>M</td>\n",
       "      <td>NaN</td>\n",
       "      <td>Foot bitten &amp; toe severed</td>\n",
       "      <td>N</td>\n",
       "    </tr>\n",
       "    <tr>\n",
       "      <th>1573</th>\n",
       "      <td>2005.0</td>\n",
       "      <td>USA</td>\n",
       "      <td>Fishing</td>\n",
       "      <td>Craig Adam Hutto</td>\n",
       "      <td>M</td>\n",
       "      <td>16</td>\n",
       "      <td>Leg severely bitten, surgically amputated</td>\n",
       "      <td>N</td>\n",
       "    </tr>\n",
       "    <tr>\n",
       "      <th>2878</th>\n",
       "      <td>1984.0</td>\n",
       "      <td>USA</td>\n",
       "      <td>Free diving , but surfacing</td>\n",
       "      <td>Paul Parsons</td>\n",
       "      <td>M</td>\n",
       "      <td>NaN</td>\n",
       "      <td>Legs &amp; buttocks bitten</td>\n",
       "      <td>N</td>\n",
       "    </tr>\n",
       "    <tr>\n",
       "      <th>2886</th>\n",
       "      <td>1984.0</td>\n",
       "      <td>USA</td>\n",
       "      <td>Boat capsized?</td>\n",
       "      <td>T. Washington</td>\n",
       "      <td>F</td>\n",
       "      <td>31</td>\n",
       "      <td>Death was due to drowning; body scavenged by a...</td>\n",
       "      <td>NaN</td>\n",
       "    </tr>\n",
       "    <tr>\n",
       "      <th>6146</th>\n",
       "      <td>1771.0</td>\n",
       "      <td>USA</td>\n",
       "      <td>Fishing</td>\n",
       "      <td>male</td>\n",
       "      <td>M</td>\n",
       "      <td>NaN</td>\n",
       "      <td>FATAL</td>\n",
       "      <td>Y</td>\n",
       "    </tr>\n",
       "  </tbody>\n",
       "</table>\n",
       "</div>"
      ],
      "text/plain": [
       "        Year Country                                Activity  \\\n",
       "1216  2008.0     USA              Swimming, towing surfboard   \n",
       "2968  1982.0     USA                                 Surfing   \n",
       "5719  1889.0     USA                                 Fishing   \n",
       "2504  1993.0     USA  Free diving & spearfishing (ascending)   \n",
       "4320  1954.0     USA                            Spearfishing   \n",
       "5911  1870.0     USA                                 Bathing   \n",
       "1573  2005.0     USA                                 Fishing   \n",
       "2878  1984.0     USA             Free diving , but surfacing   \n",
       "2886  1984.0     USA                          Boat capsized?   \n",
       "6146  1771.0     USA                                 Fishing   \n",
       "\n",
       "                  Name  Sex  Age  \\\n",
       "1216       Jacob Shoup    M   20   \n",
       "2968     John Buchanan    M   17   \n",
       "5719         rowboat,   NaN  NaN   \n",
       "2504         Don Berry    M   55   \n",
       "4320   James L. Oetzel    M  NaN   \n",
       "5911      Giles Gordon    M  NaN   \n",
       "1573  Craig Adam Hutto    M   16   \n",
       "2878      Paul Parsons    M  NaN   \n",
       "2886     T. Washington    F   31   \n",
       "6146              male    M  NaN   \n",
       "\n",
       "                                                 Injury Fatal (Y/N)  \n",
       "1216                          Minor injury to left foot           N  \n",
       "2968                            No Injury, board bitten         NaN  \n",
       "5719  No injury to occupants. Gaffed shark capsized ...           N  \n",
       "2504                         No injury, swim fin bitten           N  \n",
       "4320                                    Shoulder bitten           N  \n",
       "5911                          Foot bitten & toe severed           N  \n",
       "1573          Leg severely bitten, surgically amputated           N  \n",
       "2878                             Legs & buttocks bitten           N  \n",
       "2886  Death was due to drowning; body scavenged by a...         NaN  \n",
       "6146                                              FATAL           Y  "
      ]
     },
     "execution_count": 20,
     "metadata": {},
     "output_type": "execute_result"
    }
   ],
   "source": [
    "#Creo un nuevo dataset con el que voy a trabajar.\n",
    "sharks_usa = sharks[(sharks[\"Country\"]== \"USA\")]\n",
    "sharks_usa.sample(10)"
   ]
  },
  {
   "cell_type": "code",
   "execution_count": 21,
   "metadata": {
    "scrolled": true
   },
   "outputs": [
    {
     "data": {
      "text/plain": [
       "False    2227\n",
       "True        2\n",
       "dtype: int64"
      ]
     },
     "execution_count": 21,
     "metadata": {},
     "output_type": "execute_result"
    }
   ],
   "source": [
    "#Cuento los duplicados los elimino.\n",
    "sharks_usa.duplicated().value_counts()"
   ]
  },
  {
   "cell_type": "code",
   "execution_count": 22,
   "metadata": {
    "scrolled": true
   },
   "outputs": [
    {
     "data": {
      "text/html": [
       "<div>\n",
       "<style scoped>\n",
       "    .dataframe tbody tr th:only-of-type {\n",
       "        vertical-align: middle;\n",
       "    }\n",
       "\n",
       "    .dataframe tbody tr th {\n",
       "        vertical-align: top;\n",
       "    }\n",
       "\n",
       "    .dataframe thead th {\n",
       "        text-align: right;\n",
       "    }\n",
       "</style>\n",
       "<table border=\"1\" class=\"dataframe\">\n",
       "  <thead>\n",
       "    <tr style=\"text-align: right;\">\n",
       "      <th></th>\n",
       "      <th>Year</th>\n",
       "      <th>Country</th>\n",
       "      <th>Activity</th>\n",
       "      <th>Name</th>\n",
       "      <th>Sex</th>\n",
       "      <th>Age</th>\n",
       "      <th>Injury</th>\n",
       "      <th>Fatal (Y/N)</th>\n",
       "    </tr>\n",
       "  </thead>\n",
       "  <tbody>\n",
       "    <tr>\n",
       "      <th>0</th>\n",
       "      <td>2018.0</td>\n",
       "      <td>USA</td>\n",
       "      <td>Paddling</td>\n",
       "      <td>Julie Wolfe</td>\n",
       "      <td>F</td>\n",
       "      <td>57</td>\n",
       "      <td>No injury to occupant, outrigger canoe and pad...</td>\n",
       "      <td>N</td>\n",
       "    </tr>\n",
       "    <tr>\n",
       "      <th>1</th>\n",
       "      <td>2018.0</td>\n",
       "      <td>USA</td>\n",
       "      <td>Standing</td>\n",
       "      <td>Adyson McNeely</td>\n",
       "      <td>F</td>\n",
       "      <td>11</td>\n",
       "      <td>Minor injury to left thigh</td>\n",
       "      <td>N</td>\n",
       "    </tr>\n",
       "    <tr>\n",
       "      <th>2</th>\n",
       "      <td>2018.0</td>\n",
       "      <td>USA</td>\n",
       "      <td>Surfing</td>\n",
       "      <td>John Denges</td>\n",
       "      <td>M</td>\n",
       "      <td>48</td>\n",
       "      <td>Injury to left lower leg from surfboard skeg</td>\n",
       "      <td>N</td>\n",
       "    </tr>\n",
       "    <tr>\n",
       "      <th>3</th>\n",
       "      <td>2018.0</td>\n",
       "      <td>AUSTRALIA</td>\n",
       "      <td>Surfing</td>\n",
       "      <td>male</td>\n",
       "      <td>M</td>\n",
       "      <td>NaN</td>\n",
       "      <td>Minor injury to lower leg</td>\n",
       "      <td>N</td>\n",
       "    </tr>\n",
       "    <tr>\n",
       "      <th>4</th>\n",
       "      <td>2018.0</td>\n",
       "      <td>MEXICO</td>\n",
       "      <td>Free diving</td>\n",
       "      <td>Gustavo Ramos</td>\n",
       "      <td>M</td>\n",
       "      <td>NaN</td>\n",
       "      <td>Lacerations to leg &amp; hand shark PROVOKED INCIDENT</td>\n",
       "      <td>N</td>\n",
       "    </tr>\n",
       "  </tbody>\n",
       "</table>\n",
       "</div>"
      ],
      "text/plain": [
       "     Year    Country     Activity             Name Sex  Age  \\\n",
       "0  2018.0        USA     Paddling      Julie Wolfe   F   57   \n",
       "1  2018.0        USA     Standing  Adyson McNeely    F   11   \n",
       "2  2018.0        USA      Surfing      John Denges   M   48   \n",
       "3  2018.0  AUSTRALIA      Surfing             male   M  NaN   \n",
       "4  2018.0     MEXICO  Free diving   Gustavo Ramos    M  NaN   \n",
       "\n",
       "                                              Injury Fatal (Y/N)  \n",
       "0  No injury to occupant, outrigger canoe and pad...           N  \n",
       "1                         Minor injury to left thigh           N  \n",
       "2       Injury to left lower leg from surfboard skeg           N  \n",
       "3                          Minor injury to lower leg           N  \n",
       "4  Lacerations to leg & hand shark PROVOKED INCIDENT           N  "
      ]
     },
     "execution_count": 22,
     "metadata": {},
     "output_type": "execute_result"
    }
   ],
   "source": [
    "sharks_usa.drop_duplicates()\n",
    "sharks.head()"
   ]
  },
  {
   "cell_type": "markdown",
   "metadata": {},
   "source": [
    "## Analizo la  columna Sex:\n",
    "Reemplazo F-Female y M-Male."
   ]
  },
  {
   "cell_type": "code",
   "execution_count": 23,
   "metadata": {
    "scrolled": true
   },
   "outputs": [
    {
     "name": "stderr",
     "output_type": "stream",
     "text": [
      "/usr/local/lib/python3.9/site-packages/pandas/core/series.py:4479: SettingWithCopyWarning: \n",
      "A value is trying to be set on a copy of a slice from a DataFrame\n",
      "\n",
      "See the caveats in the documentation: https://pandas.pydata.org/pandas-docs/stable/user_guide/indexing.html#returning-a-view-versus-a-copy\n",
      "  return super().replace(\n"
     ]
    }
   ],
   "source": [
    "sharks_usa['Sex'].replace('F','Female', inplace=True)"
   ]
  },
  {
   "cell_type": "code",
   "execution_count": 24,
   "metadata": {
    "scrolled": true
   },
   "outputs": [],
   "source": [
    "sharks_usa['Sex'].replace('M','Male', inplace=True)"
   ]
  },
  {
   "cell_type": "code",
   "execution_count": 25,
   "metadata": {
    "scrolled": true
   },
   "outputs": [
    {
     "data": {
      "text/html": [
       "<div>\n",
       "<style scoped>\n",
       "    .dataframe tbody tr th:only-of-type {\n",
       "        vertical-align: middle;\n",
       "    }\n",
       "\n",
       "    .dataframe tbody tr th {\n",
       "        vertical-align: top;\n",
       "    }\n",
       "\n",
       "    .dataframe thead th {\n",
       "        text-align: right;\n",
       "    }\n",
       "</style>\n",
       "<table border=\"1\" class=\"dataframe\">\n",
       "  <thead>\n",
       "    <tr style=\"text-align: right;\">\n",
       "      <th></th>\n",
       "      <th>Year</th>\n",
       "      <th>Country</th>\n",
       "      <th>Activity</th>\n",
       "      <th>Name</th>\n",
       "      <th>Sex</th>\n",
       "      <th>Age</th>\n",
       "      <th>Injury</th>\n",
       "      <th>Fatal (Y/N)</th>\n",
       "    </tr>\n",
       "  </thead>\n",
       "  <tbody>\n",
       "    <tr>\n",
       "      <th>0</th>\n",
       "      <td>2018.0</td>\n",
       "      <td>USA</td>\n",
       "      <td>Paddling</td>\n",
       "      <td>Julie Wolfe</td>\n",
       "      <td>Female</td>\n",
       "      <td>57</td>\n",
       "      <td>No injury to occupant, outrigger canoe and pad...</td>\n",
       "      <td>N</td>\n",
       "    </tr>\n",
       "    <tr>\n",
       "      <th>1</th>\n",
       "      <td>2018.0</td>\n",
       "      <td>USA</td>\n",
       "      <td>Standing</td>\n",
       "      <td>Adyson McNeely</td>\n",
       "      <td>Female</td>\n",
       "      <td>11</td>\n",
       "      <td>Minor injury to left thigh</td>\n",
       "      <td>N</td>\n",
       "    </tr>\n",
       "    <tr>\n",
       "      <th>2</th>\n",
       "      <td>2018.0</td>\n",
       "      <td>USA</td>\n",
       "      <td>Surfing</td>\n",
       "      <td>John Denges</td>\n",
       "      <td>Male</td>\n",
       "      <td>48</td>\n",
       "      <td>Injury to left lower leg from surfboard skeg</td>\n",
       "      <td>N</td>\n",
       "    </tr>\n",
       "    <tr>\n",
       "      <th>7</th>\n",
       "      <td>2018.0</td>\n",
       "      <td>USA</td>\n",
       "      <td>Fishing</td>\n",
       "      <td>male</td>\n",
       "      <td>Male</td>\n",
       "      <td>52</td>\n",
       "      <td>Minor injury to foot. PROVOKED INCIDENT</td>\n",
       "      <td>N</td>\n",
       "    </tr>\n",
       "    <tr>\n",
       "      <th>8</th>\n",
       "      <td>2018.0</td>\n",
       "      <td>USA</td>\n",
       "      <td>Walking</td>\n",
       "      <td>Cody High</td>\n",
       "      <td>Male</td>\n",
       "      <td>15</td>\n",
       "      <td>Lower left leg bitten</td>\n",
       "      <td>N</td>\n",
       "    </tr>\n",
       "    <tr>\n",
       "      <th>...</th>\n",
       "      <td>...</td>\n",
       "      <td>...</td>\n",
       "      <td>...</td>\n",
       "      <td>...</td>\n",
       "      <td>...</td>\n",
       "      <td>...</td>\n",
       "      <td>...</td>\n",
       "      <td>...</td>\n",
       "    </tr>\n",
       "    <tr>\n",
       "      <th>6249</th>\n",
       "      <td>0.0</td>\n",
       "      <td>USA</td>\n",
       "      <td>Standing</td>\n",
       "      <td>Horton Chase</td>\n",
       "      <td>Male</td>\n",
       "      <td>NaN</td>\n",
       "      <td>Abrasions &amp; bruises hip to ankle</td>\n",
       "      <td>N</td>\n",
       "    </tr>\n",
       "    <tr>\n",
       "      <th>6283</th>\n",
       "      <td>0.0</td>\n",
       "      <td>USA</td>\n",
       "      <td>Fishing</td>\n",
       "      <td>James Kelley</td>\n",
       "      <td>Male</td>\n",
       "      <td>NaN</td>\n",
       "      <td>2-inch lacerations</td>\n",
       "      <td>N</td>\n",
       "    </tr>\n",
       "    <tr>\n",
       "      <th>6288</th>\n",
       "      <td>0.0</td>\n",
       "      <td>USA</td>\n",
       "      <td>Swimming</td>\n",
       "      <td>\"youthful male\"</td>\n",
       "      <td>Male</td>\n",
       "      <td>NaN</td>\n",
       "      <td>\"Lost leg\"</td>\n",
       "      <td>N</td>\n",
       "    </tr>\n",
       "    <tr>\n",
       "      <th>6292</th>\n",
       "      <td>0.0</td>\n",
       "      <td>USA</td>\n",
       "      <td>NaN</td>\n",
       "      <td>A \"chiefess\"</td>\n",
       "      <td>Female</td>\n",
       "      <td>NaN</td>\n",
       "      <td>Ankle bitten</td>\n",
       "      <td>N</td>\n",
       "    </tr>\n",
       "    <tr>\n",
       "      <th>6299</th>\n",
       "      <td>0.0</td>\n",
       "      <td>USA</td>\n",
       "      <td>Swimming</td>\n",
       "      <td>Coast Guard personnel</td>\n",
       "      <td>Male</td>\n",
       "      <td>NaN</td>\n",
       "      <td>FATAL</td>\n",
       "      <td>Y</td>\n",
       "    </tr>\n",
       "  </tbody>\n",
       "</table>\n",
       "<p>2229 rows × 8 columns</p>\n",
       "</div>"
      ],
      "text/plain": [
       "        Year Country  Activity                   Name     Sex  Age  \\\n",
       "0     2018.0     USA  Paddling            Julie Wolfe  Female   57   \n",
       "1     2018.0     USA  Standing        Adyson McNeely   Female   11   \n",
       "2     2018.0     USA   Surfing            John Denges    Male   48   \n",
       "7     2018.0     USA   Fishing                   male    Male   52   \n",
       "8     2018.0     USA   Walking              Cody High    Male   15   \n",
       "...      ...     ...       ...                    ...     ...  ...   \n",
       "6249     0.0     USA  Standing           Horton Chase    Male  NaN   \n",
       "6283     0.0     USA   Fishing           James Kelley    Male  NaN   \n",
       "6288     0.0     USA  Swimming        \"youthful male\"    Male  NaN   \n",
       "6292     0.0     USA       NaN           A \"chiefess\"  Female  NaN   \n",
       "6299     0.0     USA  Swimming  Coast Guard personnel    Male  NaN   \n",
       "\n",
       "                                                 Injury Fatal (Y/N)  \n",
       "0     No injury to occupant, outrigger canoe and pad...           N  \n",
       "1                            Minor injury to left thigh           N  \n",
       "2          Injury to left lower leg from surfboard skeg           N  \n",
       "7               Minor injury to foot. PROVOKED INCIDENT           N  \n",
       "8                                 Lower left leg bitten           N  \n",
       "...                                                 ...         ...  \n",
       "6249                   Abrasions & bruises hip to ankle           N  \n",
       "6283                                 2-inch lacerations           N  \n",
       "6288                                         \"Lost leg\"           N  \n",
       "6292                                       Ankle bitten           N  \n",
       "6299                                              FATAL           Y  \n",
       "\n",
       "[2229 rows x 8 columns]"
      ]
     },
     "execution_count": 25,
     "metadata": {},
     "output_type": "execute_result"
    }
   ],
   "source": [
    "sharks_usa"
   ]
  },
  {
   "cell_type": "code",
   "execution_count": 26,
   "metadata": {
    "scrolled": true
   },
   "outputs": [
    {
     "data": {
      "text/plain": [
       "Male      1792\n",
       "Female     337\n",
       "M            1\n",
       "lli          1\n",
       "Name: Sex, dtype: int64"
      ]
     },
     "execution_count": 26,
     "metadata": {},
     "output_type": "execute_result"
    }
   ],
   "source": [
    "sharks_usa['Sex'].value_counts()"
   ]
  },
  {
   "cell_type": "markdown",
   "metadata": {},
   "source": [
    "### Me encuentro que hay dos valores que no son Male ni Female y los analizo"
   ]
  },
  {
   "cell_type": "code",
   "execution_count": 27,
   "metadata": {
    "scrolled": true
   },
   "outputs": [
    {
     "data": {
      "text/html": [
       "<div>\n",
       "<style scoped>\n",
       "    .dataframe tbody tr th:only-of-type {\n",
       "        vertical-align: middle;\n",
       "    }\n",
       "\n",
       "    .dataframe tbody tr th {\n",
       "        vertical-align: top;\n",
       "    }\n",
       "\n",
       "    .dataframe thead th {\n",
       "        text-align: right;\n",
       "    }\n",
       "</style>\n",
       "<table border=\"1\" class=\"dataframe\">\n",
       "  <thead>\n",
       "    <tr style=\"text-align: right;\">\n",
       "      <th></th>\n",
       "      <th>Year</th>\n",
       "      <th>Country</th>\n",
       "      <th>Activity</th>\n",
       "      <th>Name</th>\n",
       "      <th>Sex</th>\n",
       "      <th>Age</th>\n",
       "      <th>Injury</th>\n",
       "      <th>Fatal (Y/N)</th>\n",
       "    </tr>\n",
       "  </thead>\n",
       "  <tbody>\n",
       "    <tr>\n",
       "      <th>563</th>\n",
       "      <td>2014.0</td>\n",
       "      <td>USA</td>\n",
       "      <td>Swimming</td>\n",
       "      <td>male</td>\n",
       "      <td>M</td>\n",
       "      <td>42</td>\n",
       "      <td>Laceration &amp; puncture wounds to right foot</td>\n",
       "      <td>N</td>\n",
       "    </tr>\n",
       "  </tbody>\n",
       "</table>\n",
       "</div>"
      ],
      "text/plain": [
       "       Year Country  Activity  Name Sex Age  \\\n",
       "563  2014.0     USA  Swimming  male  M   42   \n",
       "\n",
       "                                         Injury Fatal (Y/N)  \n",
       "563  Laceration & puncture wounds to right foot           N  "
      ]
     },
     "execution_count": 27,
     "metadata": {},
     "output_type": "execute_result"
    }
   ],
   "source": [
    "sharks_usa.loc[sharks_usa['Sex'] == 'M ']"
   ]
  },
  {
   "cell_type": "code",
   "execution_count": 28,
   "metadata": {
    "scrolled": true
   },
   "outputs": [
    {
     "data": {
      "text/plain": [
       "Year                                               2014.0\n",
       "Country                                               USA\n",
       "Activity                                         Swimming\n",
       "Name                                                 male\n",
       "Sex                                                    M \n",
       "Age                                                    42\n",
       "Injury         Laceration & puncture wounds to right foot\n",
       "Fatal (Y/N)                                             N\n",
       "Name: 563, dtype: object"
      ]
     },
     "execution_count": 28,
     "metadata": {},
     "output_type": "execute_result"
    }
   ],
   "source": [
    "sharks_usa.loc[563]"
   ]
  },
  {
   "cell_type": "code",
   "execution_count": 29,
   "metadata": {
    "scrolled": true
   },
   "outputs": [
    {
     "name": "stderr",
     "output_type": "stream",
     "text": [
      "/usr/local/lib/python3.9/site-packages/pandas/core/series.py:4479: SettingWithCopyWarning: \n",
      "A value is trying to be set on a copy of a slice from a DataFrame\n",
      "\n",
      "See the caveats in the documentation: https://pandas.pydata.org/pandas-docs/stable/user_guide/indexing.html#returning-a-view-versus-a-copy\n",
      "  return super().replace(\n"
     ]
    }
   ],
   "source": [
    "sharks_usa['Sex'].replace('M ','Male', inplace = True)"
   ]
  },
  {
   "cell_type": "code",
   "execution_count": 30,
   "metadata": {
    "scrolled": true
   },
   "outputs": [
    {
     "data": {
      "text/plain": [
       "Male      1793\n",
       "Female     337\n",
       "lli          1\n",
       "Name: Sex, dtype: int64"
      ]
     },
     "execution_count": 30,
     "metadata": {},
     "output_type": "execute_result"
    }
   ],
   "source": [
    "sharks_usa['Sex'].value_counts()"
   ]
  },
  {
   "cell_type": "code",
   "execution_count": 31,
   "metadata": {
    "scrolled": true
   },
   "outputs": [
    {
     "data": {
      "text/html": [
       "<div>\n",
       "<style scoped>\n",
       "    .dataframe tbody tr th:only-of-type {\n",
       "        vertical-align: middle;\n",
       "    }\n",
       "\n",
       "    .dataframe tbody tr th {\n",
       "        vertical-align: top;\n",
       "    }\n",
       "\n",
       "    .dataframe thead th {\n",
       "        text-align: right;\n",
       "    }\n",
       "</style>\n",
       "<table border=\"1\" class=\"dataframe\">\n",
       "  <thead>\n",
       "    <tr style=\"text-align: right;\">\n",
       "      <th></th>\n",
       "      <th>Year</th>\n",
       "      <th>Country</th>\n",
       "      <th>Activity</th>\n",
       "      <th>Name</th>\n",
       "      <th>Sex</th>\n",
       "      <th>Age</th>\n",
       "      <th>Injury</th>\n",
       "      <th>Fatal (Y/N)</th>\n",
       "    </tr>\n",
       "  </thead>\n",
       "  <tbody>\n",
       "    <tr>\n",
       "      <th>1624</th>\n",
       "      <td>2004.0</td>\n",
       "      <td>USA</td>\n",
       "      <td>Surfing</td>\n",
       "      <td>Brian Kang</td>\n",
       "      <td>lli</td>\n",
       "      <td>38</td>\n",
       "      <td>Lacerations to hand, knee &amp; thigh</td>\n",
       "      <td>N</td>\n",
       "    </tr>\n",
       "  </tbody>\n",
       "</table>\n",
       "</div>"
      ],
      "text/plain": [
       "        Year Country Activity        Name  Sex Age  \\\n",
       "1624  2004.0     USA  Surfing  Brian Kang  lli  38   \n",
       "\n",
       "                                  Injury Fatal (Y/N)  \n",
       "1624  Lacerations to hand, knee & thigh            N  "
      ]
     },
     "execution_count": 31,
     "metadata": {},
     "output_type": "execute_result"
    }
   ],
   "source": [
    "sharks_usa.loc[sharks_usa['Sex'] == 'lli']"
   ]
  },
  {
   "cell_type": "code",
   "execution_count": 32,
   "metadata": {
    "scrolled": true
   },
   "outputs": [
    {
     "data": {
      "text/plain": [
       "Year                                       2004.0\n",
       "Country                                       USA\n",
       "Activity                                  Surfing\n",
       "Name                                   Brian Kang\n",
       "Sex                                           lli\n",
       "Age                                            38\n",
       "Injury         Lacerations to hand, knee & thigh \n",
       "Fatal (Y/N)                                     N\n",
       "Name: 1624, dtype: object"
      ]
     },
     "execution_count": 32,
     "metadata": {},
     "output_type": "execute_result"
    }
   ],
   "source": [
    "sharks_usa.loc[1624]"
   ]
  },
  {
   "cell_type": "code",
   "execution_count": 33,
   "metadata": {
    "scrolled": true
   },
   "outputs": [
    {
     "name": "stderr",
     "output_type": "stream",
     "text": [
      "/usr/local/lib/python3.9/site-packages/pandas/core/series.py:4479: SettingWithCopyWarning: \n",
      "A value is trying to be set on a copy of a slice from a DataFrame\n",
      "\n",
      "See the caveats in the documentation: https://pandas.pydata.org/pandas-docs/stable/user_guide/indexing.html#returning-a-view-versus-a-copy\n",
      "  return super().replace(\n"
     ]
    }
   ],
   "source": [
    "sharks_usa['Sex'].replace('lli','Male', inplace=True)"
   ]
  },
  {
   "cell_type": "code",
   "execution_count": 34,
   "metadata": {
    "scrolled": true
   },
   "outputs": [
    {
     "data": {
      "text/plain": [
       "Male      1794\n",
       "Female     337\n",
       "Name: Sex, dtype: int64"
      ]
     },
     "execution_count": 34,
     "metadata": {},
     "output_type": "execute_result"
    }
   ],
   "source": [
    "sharks_usa['Sex'].value_counts()"
   ]
  },
  {
   "cell_type": "code",
   "execution_count": 35,
   "metadata": {},
   "outputs": [
    {
     "data": {
      "text/plain": [
       "2131"
      ]
     },
     "execution_count": 35,
     "metadata": {},
     "output_type": "execute_result"
    }
   ],
   "source": [
    "sharks_usa['Sex'].value_counts().sum()"
   ]
  },
  {
   "cell_type": "code",
   "execution_count": 36,
   "metadata": {
    "scrolled": true
   },
   "outputs": [
    {
     "data": {
      "image/png": "[encoded data removed]",
      "text/plain": [
       "<Figure size 432x288 with 1 Axes>"
      ]
     },
     "metadata": {
      "needs_background": "light"
     },
     "output_type": "display_data"
    }
   ],
   "source": [
    "# Representación gráfica Female vs Male.\n",
    "gender = sns.countplot(x= sharks_usa.Sex, palette=\"Blues\")\n",
    "gender.figure.savefig('output/gender.png')"
   ]
  },
  {
   "cell_type": "code",
   "execution_count": 37,
   "metadata": {},
   "outputs": [
    {
     "data": {
      "text/plain": [
       "(84, 16)"
      ]
     },
     "execution_count": 37,
     "metadata": {},
     "output_type": "execute_result"
    }
   ],
   "source": [
    "#Calculo el porcentaje y para ello creo una función.\n",
    "def porcentaje(i,j):\n",
    "    male = round((i * 100)/(i+j))\n",
    "    female = round((j * 100)/(i+j))\n",
    "    return (male, female)\n",
    "porcentaje(1794,337)"
   ]
  },
  {
   "cell_type": "markdown",
   "metadata": {},
   "source": [
    "# El 84% son Hombres y el 16% son Mujeres."
   ]
  },
  {
   "cell_type": "markdown",
   "metadata": {
    "scrolled": true
   },
   "source": [
    "### Observo que en la coluna de los años, hay diferentes formas expresadas y quiero crear a través de un patrón una cifra de dos valores."
   ]
  },
  {
   "cell_type": "code",
   "execution_count": 38,
   "metadata": {
    "scrolled": true
   },
   "outputs": [
    {
     "data": {
      "text/plain": [
       "16          68\n",
       "15          67\n",
       "17          65\n",
       "19          61\n",
       "18          59\n",
       "            ..\n",
       "10 or 12     1\n",
       "             1\n",
       "23 & 20      1\n",
       "64           1\n",
       "86           1\n",
       "Name: Age, Length: 100, dtype: int64"
      ]
     },
     "execution_count": 38,
     "metadata": {},
     "output_type": "execute_result"
    }
   ],
   "source": [
    "sharks_usa['Age'].value_counts()"
   ]
  },
  {
   "cell_type": "code",
   "execution_count": 39,
   "metadata": {
    "scrolled": true
   },
   "outputs": [
    {
     "data": {
      "text/plain": [
       "array(['57', '11', '48', '52', '15', '12', '10', '29', '25', '54', '35',\n",
       "       '14', nan, '17', '60', '40', '33', '28', '18', '3', '69', '13',\n",
       "       '34', '8', '50', '46', '16', '19', '20', '21', '51', '58', '22',\n",
       "       'Teen', '47', '41', '42', '36', '66', '32', '43', '60s', '9', '37',\n",
       "       '49', '61', '59', '6', '27', '64', '23', '26', '71', '44', '31',\n",
       "       '38', '39', '68', '30', '65', '63', '70', '53', '7', '20s', '45',\n",
       "       '50s', 'teen', '56', '24', '55', '30s', '5', '86', '12 or 13',\n",
       "       '62', 'Teens', '8 or 10', '\\xa0 ', '6½', 'mid-30s', '73',\n",
       "       '23 & 20', '7      &    31', ' 28', \"60's\", '87', '67', '77',\n",
       "       'Elderly', 'mid-20s', 'Ca. 33', '75', '21 or 26', 'adult',\n",
       "       '9 & 12', '37, 67, 35, 27,  ? & 27', ' 43', '?    &   14',\n",
       "       '10 or 12', 'young'], dtype=object)"
      ]
     },
     "execution_count": 39,
     "metadata": {},
     "output_type": "execute_result"
    }
   ],
   "source": [
    "sharks_usa['Age'].unique()"
   ]
  },
  {
   "cell_type": "code",
   "execution_count": 40,
   "metadata": {
    "scrolled": true
   },
   "outputs": [
    {
     "name": "stdout",
     "output_type": "stream",
     "text": [
      "Requirement already satisfied: regex in /usr/local/Caskroom/miniconda/base/lib/python3.8/site-packages (2020.11.13)\r\n"
     ]
    }
   ],
   "source": [
    "!pip3 install regex"
   ]
  },
  {
   "cell_type": "code",
   "execution_count": 41,
   "metadata": {
    "scrolled": true
   },
   "outputs": [],
   "source": [
    "#pattern = (\\d{2}) -- findall (patrón, string)\n",
    "#Quiero escoger sólo las edades de dos valores.\n",
    "import re\n",
    "import statistics\n",
    "def ages(i):\n",
    "    try:\n",
    "        pattern = r'(\\d{2})'\n",
    "        busca = re.findall(pattern, i)\n",
    "        return int(busca[0])\n",
    "\n",
    "    except:\n",
    "        return np.nan"
   ]
  },
  {
   "cell_type": "code",
   "execution_count": 42,
   "metadata": {},
   "outputs": [
    {
     "data": {
      "text/plain": [
       "25"
      ]
     },
     "execution_count": 42,
     "metadata": {},
     "output_type": "execute_result"
    }
   ],
   "source": [
    "ages('25 or 30')"
   ]
  },
  {
   "cell_type": "code",
   "execution_count": 43,
   "metadata": {
    "scrolled": true
   },
   "outputs": [
    {
     "name": "stderr",
     "output_type": "stream",
     "text": [
      "<ipython-input-43-27d674de7739>:2: SettingWithCopyWarning: \n",
      "A value is trying to be set on a copy of a slice from a DataFrame.\n",
      "Try using .loc[row_indexer,col_indexer] = value instead\n",
      "\n",
      "See the caveats in the documentation: https://pandas.pydata.org/pandas-docs/stable/user_guide/indexing.html#returning-a-view-versus-a-copy\n",
      "  sharks_usa['Ages'] = sharks_usa['Age'].apply(ages)\n"
     ]
    }
   ],
   "source": [
    "#Creo una nueva columna y aplico la función\n",
    "sharks_usa['Ages'] = sharks_usa['Age'].apply(ages)"
   ]
  },
  {
   "cell_type": "code",
   "execution_count": 44,
   "metadata": {},
   "outputs": [
    {
     "data": {
      "text/plain": [
       "array([57., 11., 48., 52., 15., 12., 10., 29., 25., 54., 35., 14., nan,\n",
       "       17., 60., 40., 33., 28., 18., 69., 13., 34., 50., 46., 16., 19.,\n",
       "       20., 21., 51., 58., 22., 47., 41., 42., 36., 66., 32., 43., 37.,\n",
       "       49., 61., 59., 27., 64., 23., 26., 71., 44., 31., 38., 39., 68.,\n",
       "       30., 65., 63., 70., 53., 45., 56., 24., 55., 86., 62., 73., 87.,\n",
       "       67., 77., 75.])"
      ]
     },
     "execution_count": 44,
     "metadata": {},
     "output_type": "execute_result"
    }
   ],
   "source": [
    "#Muestro los valores únicos y tengo nan; los elimino.\n",
    "sharks_usa['Ages'].unique()"
   ]
  },
  {
   "cell_type": "code",
   "execution_count": 45,
   "metadata": {},
   "outputs": [
    {
     "name": "stderr",
     "output_type": "stream",
     "text": [
      "<ipython-input-45-7c0da17f5bcf>:1: SettingWithCopyWarning: \n",
      "A value is trying to be set on a copy of a slice from a DataFrame\n",
      "\n",
      "See the caveats in the documentation: https://pandas.pydata.org/pandas-docs/stable/user_guide/indexing.html#returning-a-view-versus-a-copy\n",
      "  sharks_usa.dropna(subset=[\"Ages\"],inplace=True)\n"
     ]
    }
   ],
   "source": [
    "sharks_usa.dropna(subset=[\"Ages\"],inplace=True)"
   ]
  },
  {
   "cell_type": "code",
   "execution_count": 46,
   "metadata": {},
   "outputs": [
    {
     "data": {
      "text/plain": [
       "array([57., 11., 48., 52., 15., 12., 10., 29., 25., 54., 35., 14., 17.,\n",
       "       60., 40., 33., 28., 18., 69., 13., 34., 50., 46., 16., 19., 20.,\n",
       "       21., 51., 58., 22., 47., 41., 42., 36., 66., 32., 43., 37., 49.,\n",
       "       61., 59., 27., 64., 23., 26., 71., 44., 31., 38., 39., 68., 30.,\n",
       "       65., 63., 70., 53., 45., 56., 24., 55., 86., 62., 73., 87., 67.,\n",
       "       77., 75.])"
      ]
     },
     "execution_count": 46,
     "metadata": {},
     "output_type": "execute_result"
    }
   ],
   "source": [
    "sharks_usa['Ages'].unique()"
   ]
  },
  {
   "cell_type": "code",
   "execution_count": 47,
   "metadata": {},
   "outputs": [
    {
     "data": {
      "text/plain": [
       "0"
      ]
     },
     "execution_count": 47,
     "metadata": {},
     "output_type": "execute_result"
    }
   ],
   "source": [
    "sharks_usa['Ages'].isnull().sum()"
   ]
  },
  {
   "cell_type": "code",
   "execution_count": 48,
   "metadata": {},
   "outputs": [
    {
     "data": {
      "text/html": [
       "<div>\n",
       "<style scoped>\n",
       "    .dataframe tbody tr th:only-of-type {\n",
       "        vertical-align: middle;\n",
       "    }\n",
       "\n",
       "    .dataframe tbody tr th {\n",
       "        vertical-align: top;\n",
       "    }\n",
       "\n",
       "    .dataframe thead th {\n",
       "        text-align: right;\n",
       "    }\n",
       "</style>\n",
       "<table border=\"1\" class=\"dataframe\">\n",
       "  <thead>\n",
       "    <tr style=\"text-align: right;\">\n",
       "      <th></th>\n",
       "      <th>Year</th>\n",
       "      <th>Country</th>\n",
       "      <th>Activity</th>\n",
       "      <th>Name</th>\n",
       "      <th>Sex</th>\n",
       "      <th>Age</th>\n",
       "      <th>Injury</th>\n",
       "      <th>Fatal (Y/N)</th>\n",
       "      <th>Ages</th>\n",
       "    </tr>\n",
       "  </thead>\n",
       "  <tbody>\n",
       "    <tr>\n",
       "      <th>0</th>\n",
       "      <td>2018.0</td>\n",
       "      <td>USA</td>\n",
       "      <td>Paddling</td>\n",
       "      <td>Julie Wolfe</td>\n",
       "      <td>Female</td>\n",
       "      <td>57</td>\n",
       "      <td>No injury to occupant, outrigger canoe and pad...</td>\n",
       "      <td>N</td>\n",
       "      <td>57.0</td>\n",
       "    </tr>\n",
       "    <tr>\n",
       "      <th>1</th>\n",
       "      <td>2018.0</td>\n",
       "      <td>USA</td>\n",
       "      <td>Standing</td>\n",
       "      <td>Adyson McNeely</td>\n",
       "      <td>Female</td>\n",
       "      <td>11</td>\n",
       "      <td>Minor injury to left thigh</td>\n",
       "      <td>N</td>\n",
       "      <td>11.0</td>\n",
       "    </tr>\n",
       "    <tr>\n",
       "      <th>2</th>\n",
       "      <td>2018.0</td>\n",
       "      <td>USA</td>\n",
       "      <td>Surfing</td>\n",
       "      <td>John Denges</td>\n",
       "      <td>Male</td>\n",
       "      <td>48</td>\n",
       "      <td>Injury to left lower leg from surfboard skeg</td>\n",
       "      <td>N</td>\n",
       "      <td>48.0</td>\n",
       "    </tr>\n",
       "    <tr>\n",
       "      <th>7</th>\n",
       "      <td>2018.0</td>\n",
       "      <td>USA</td>\n",
       "      <td>Fishing</td>\n",
       "      <td>male</td>\n",
       "      <td>Male</td>\n",
       "      <td>52</td>\n",
       "      <td>Minor injury to foot. PROVOKED INCIDENT</td>\n",
       "      <td>N</td>\n",
       "      <td>52.0</td>\n",
       "    </tr>\n",
       "    <tr>\n",
       "      <th>8</th>\n",
       "      <td>2018.0</td>\n",
       "      <td>USA</td>\n",
       "      <td>Walking</td>\n",
       "      <td>Cody High</td>\n",
       "      <td>Male</td>\n",
       "      <td>15</td>\n",
       "      <td>Lower left leg bitten</td>\n",
       "      <td>N</td>\n",
       "      <td>15.0</td>\n",
       "    </tr>\n",
       "  </tbody>\n",
       "</table>\n",
       "</div>"
      ],
      "text/plain": [
       "     Year Country  Activity             Name     Sex Age  \\\n",
       "0  2018.0     USA  Paddling      Julie Wolfe  Female  57   \n",
       "1  2018.0     USA  Standing  Adyson McNeely   Female  11   \n",
       "2  2018.0     USA   Surfing      John Denges    Male  48   \n",
       "7  2018.0     USA   Fishing             male    Male  52   \n",
       "8  2018.0     USA   Walking        Cody High    Male  15   \n",
       "\n",
       "                                              Injury Fatal (Y/N)  Ages  \n",
       "0  No injury to occupant, outrigger canoe and pad...           N  57.0  \n",
       "1                         Minor injury to left thigh           N  11.0  \n",
       "2       Injury to left lower leg from surfboard skeg           N  48.0  \n",
       "7            Minor injury to foot. PROVOKED INCIDENT           N  52.0  \n",
       "8                              Lower left leg bitten           N  15.0  "
      ]
     },
     "execution_count": 48,
     "metadata": {},
     "output_type": "execute_result"
    }
   ],
   "source": [
    "sharks_usa.head()"
   ]
  },
  {
   "cell_type": "code",
   "execution_count": 49,
   "metadata": {},
   "outputs": [
    {
     "data": {
      "text/html": [
       "<div>\n",
       "<style scoped>\n",
       "    .dataframe tbody tr th:only-of-type {\n",
       "        vertical-align: middle;\n",
       "    }\n",
       "\n",
       "    .dataframe tbody tr th {\n",
       "        vertical-align: top;\n",
       "    }\n",
       "\n",
       "    .dataframe thead th {\n",
       "        text-align: right;\n",
       "    }\n",
       "</style>\n",
       "<table border=\"1\" class=\"dataframe\">\n",
       "  <thead>\n",
       "    <tr style=\"text-align: right;\">\n",
       "      <th></th>\n",
       "      <th>Year</th>\n",
       "      <th>Country</th>\n",
       "      <th>Activity</th>\n",
       "      <th>Name</th>\n",
       "      <th>Sex</th>\n",
       "      <th>Injury</th>\n",
       "      <th>Fatal (Y/N)</th>\n",
       "      <th>Ages</th>\n",
       "    </tr>\n",
       "  </thead>\n",
       "  <tbody>\n",
       "    <tr>\n",
       "      <th>0</th>\n",
       "      <td>2018.0</td>\n",
       "      <td>USA</td>\n",
       "      <td>Paddling</td>\n",
       "      <td>Julie Wolfe</td>\n",
       "      <td>Female</td>\n",
       "      <td>No injury to occupant, outrigger canoe and pad...</td>\n",
       "      <td>N</td>\n",
       "      <td>57.0</td>\n",
       "    </tr>\n",
       "    <tr>\n",
       "      <th>1</th>\n",
       "      <td>2018.0</td>\n",
       "      <td>USA</td>\n",
       "      <td>Standing</td>\n",
       "      <td>Adyson McNeely</td>\n",
       "      <td>Female</td>\n",
       "      <td>Minor injury to left thigh</td>\n",
       "      <td>N</td>\n",
       "      <td>11.0</td>\n",
       "    </tr>\n",
       "    <tr>\n",
       "      <th>2</th>\n",
       "      <td>2018.0</td>\n",
       "      <td>USA</td>\n",
       "      <td>Surfing</td>\n",
       "      <td>John Denges</td>\n",
       "      <td>Male</td>\n",
       "      <td>Injury to left lower leg from surfboard skeg</td>\n",
       "      <td>N</td>\n",
       "      <td>48.0</td>\n",
       "    </tr>\n",
       "    <tr>\n",
       "      <th>7</th>\n",
       "      <td>2018.0</td>\n",
       "      <td>USA</td>\n",
       "      <td>Fishing</td>\n",
       "      <td>male</td>\n",
       "      <td>Male</td>\n",
       "      <td>Minor injury to foot. PROVOKED INCIDENT</td>\n",
       "      <td>N</td>\n",
       "      <td>52.0</td>\n",
       "    </tr>\n",
       "    <tr>\n",
       "      <th>8</th>\n",
       "      <td>2018.0</td>\n",
       "      <td>USA</td>\n",
       "      <td>Walking</td>\n",
       "      <td>Cody High</td>\n",
       "      <td>Male</td>\n",
       "      <td>Lower left leg bitten</td>\n",
       "      <td>N</td>\n",
       "      <td>15.0</td>\n",
       "    </tr>\n",
       "  </tbody>\n",
       "</table>\n",
       "</div>"
      ],
      "text/plain": [
       "     Year Country  Activity             Name     Sex  \\\n",
       "0  2018.0     USA  Paddling      Julie Wolfe  Female   \n",
       "1  2018.0     USA  Standing  Adyson McNeely   Female   \n",
       "2  2018.0     USA   Surfing      John Denges    Male   \n",
       "7  2018.0     USA   Fishing             male    Male   \n",
       "8  2018.0     USA   Walking        Cody High    Male   \n",
       "\n",
       "                                              Injury Fatal (Y/N)  Ages  \n",
       "0  No injury to occupant, outrigger canoe and pad...           N  57.0  \n",
       "1                         Minor injury to left thigh           N  11.0  \n",
       "2       Injury to left lower leg from surfboard skeg           N  48.0  \n",
       "7            Minor injury to foot. PROVOKED INCIDENT           N  52.0  \n",
       "8                              Lower left leg bitten           N  15.0  "
      ]
     },
     "execution_count": 49,
     "metadata": {},
     "output_type": "execute_result"
    }
   ],
   "source": [
    "#Elimino la columna Age y me quedo con la de Ages.\n",
    "sharks_usa = sharks_usa.drop(['Age'], axis = 1 )\n",
    "sharks_usa.head()"
   ]
  },
  {
   "cell_type": "code",
   "execution_count": 50,
   "metadata": {},
   "outputs": [
    {
     "data": {
      "text/plain": [
       "67"
      ]
     },
     "execution_count": 50,
     "metadata": {},
     "output_type": "execute_result"
    }
   ],
   "source": [
    "#Encuentro que hay 67 valores únicos.\n",
    "len(sharks_usa['Ages'].unique())"
   ]
  },
  {
   "cell_type": "code",
   "execution_count": 51,
   "metadata": {
    "scrolled": true
   },
   "outputs": [
    {
     "data": {
      "text/plain": [
       "<AxesSubplot:xlabel='Sex', ylabel='count'>"
      ]
     },
     "execution_count": 51,
     "metadata": {},
     "output_type": "execute_result"
    },
    {
     "data": {
      "image/png": "[encoded data removed]",
      "text/plain": [
       "<Figure size 432x288 with 1 Axes>"
      ]
     },
     "metadata": {
      "needs_background": "light"
     },
     "output_type": "display_data"
    }
   ],
   "source": [
    "# A la hora de representarlos en un gráfico, no queda claro.\n",
    "sns.countplot(x= sharks_usa.Sex, hue=sharks_usa.Ages, palette=\"Set1\")"
   ]
  },
  {
   "cell_type": "code",
   "execution_count": 52,
   "metadata": {},
   "outputs": [
    {
     "data": {
      "text/plain": [
       "<AxesSubplot:xlabel='Ages', ylabel='count'>"
      ]
     },
     "execution_count": 52,
     "metadata": {},
     "output_type": "execute_result"
    },
    {
     "data": {
      "image/png": "[encoded data removed]",
      "text/plain": [
       "<Figure size 432x288 with 1 Axes>"
      ]
     },
     "metadata": {
      "needs_background": "light"
     },
     "output_type": "display_data"
    }
   ],
   "source": [
    "#Aquí tampoco.\n",
    "sns.countplot(x= sharks_usa.Ages, hue=sharks_usa.Sex, palette=\"Set1\")"
   ]
  },
  {
   "cell_type": "code",
   "execution_count": 53,
   "metadata": {
    "scrolled": true
   },
   "outputs": [
    {
     "data": {
      "text/html": [
       "<div>\n",
       "<style scoped>\n",
       "    .dataframe tbody tr th:only-of-type {\n",
       "        vertical-align: middle;\n",
       "    }\n",
       "\n",
       "    .dataframe tbody tr th {\n",
       "        vertical-align: top;\n",
       "    }\n",
       "\n",
       "    .dataframe thead th {\n",
       "        text-align: right;\n",
       "    }\n",
       "</style>\n",
       "<table border=\"1\" class=\"dataframe\">\n",
       "  <thead>\n",
       "    <tr style=\"text-align: right;\">\n",
       "      <th></th>\n",
       "      <th>Year</th>\n",
       "      <th>Country</th>\n",
       "      <th>Activity</th>\n",
       "      <th>Name</th>\n",
       "      <th>Sex</th>\n",
       "      <th>Injury</th>\n",
       "      <th>Fatal (Y/N)</th>\n",
       "      <th>Ages</th>\n",
       "      <th>AgeRanges</th>\n",
       "    </tr>\n",
       "  </thead>\n",
       "  <tbody>\n",
       "    <tr>\n",
       "      <th>0</th>\n",
       "      <td>2018.0</td>\n",
       "      <td>USA</td>\n",
       "      <td>Paddling</td>\n",
       "      <td>Julie Wolfe</td>\n",
       "      <td>Female</td>\n",
       "      <td>No injury to occupant, outrigger canoe and pad...</td>\n",
       "      <td>N</td>\n",
       "      <td>57.0</td>\n",
       "      <td>(50, 60]</td>\n",
       "    </tr>\n",
       "    <tr>\n",
       "      <th>1</th>\n",
       "      <td>2018.0</td>\n",
       "      <td>USA</td>\n",
       "      <td>Standing</td>\n",
       "      <td>Adyson McNeely</td>\n",
       "      <td>Female</td>\n",
       "      <td>Minor injury to left thigh</td>\n",
       "      <td>N</td>\n",
       "      <td>11.0</td>\n",
       "      <td>(10, 20]</td>\n",
       "    </tr>\n",
       "    <tr>\n",
       "      <th>2</th>\n",
       "      <td>2018.0</td>\n",
       "      <td>USA</td>\n",
       "      <td>Surfing</td>\n",
       "      <td>John Denges</td>\n",
       "      <td>Male</td>\n",
       "      <td>Injury to left lower leg from surfboard skeg</td>\n",
       "      <td>N</td>\n",
       "      <td>48.0</td>\n",
       "      <td>(40, 50]</td>\n",
       "    </tr>\n",
       "    <tr>\n",
       "      <th>7</th>\n",
       "      <td>2018.0</td>\n",
       "      <td>USA</td>\n",
       "      <td>Fishing</td>\n",
       "      <td>male</td>\n",
       "      <td>Male</td>\n",
       "      <td>Minor injury to foot. PROVOKED INCIDENT</td>\n",
       "      <td>N</td>\n",
       "      <td>52.0</td>\n",
       "      <td>(50, 60]</td>\n",
       "    </tr>\n",
       "    <tr>\n",
       "      <th>8</th>\n",
       "      <td>2018.0</td>\n",
       "      <td>USA</td>\n",
       "      <td>Walking</td>\n",
       "      <td>Cody High</td>\n",
       "      <td>Male</td>\n",
       "      <td>Lower left leg bitten</td>\n",
       "      <td>N</td>\n",
       "      <td>15.0</td>\n",
       "      <td>(10, 20]</td>\n",
       "    </tr>\n",
       "  </tbody>\n",
       "</table>\n",
       "</div>"
      ],
      "text/plain": [
       "     Year Country  Activity             Name     Sex  \\\n",
       "0  2018.0     USA  Paddling      Julie Wolfe  Female   \n",
       "1  2018.0     USA  Standing  Adyson McNeely   Female   \n",
       "2  2018.0     USA   Surfing      John Denges    Male   \n",
       "7  2018.0     USA   Fishing             male    Male   \n",
       "8  2018.0     USA   Walking        Cody High    Male   \n",
       "\n",
       "                                              Injury Fatal (Y/N)  Ages  \\\n",
       "0  No injury to occupant, outrigger canoe and pad...           N  57.0   \n",
       "1                         Minor injury to left thigh           N  11.0   \n",
       "2       Injury to left lower leg from surfboard skeg           N  48.0   \n",
       "7            Minor injury to foot. PROVOKED INCIDENT           N  52.0   \n",
       "8                              Lower left leg bitten           N  15.0   \n",
       "\n",
       "  AgeRanges  \n",
       "0  (50, 60]  \n",
       "1  (10, 20]  \n",
       "2  (40, 50]  \n",
       "7  (50, 60]  \n",
       "8  (10, 20]  "
      ]
     },
     "execution_count": 53,
     "metadata": {},
     "output_type": "execute_result"
    }
   ],
   "source": [
    "#Por eso decido crear una nueva columna con rango de edades.\n",
    "sharks_usa['AgeRanges'] = pd.cut(sharks_usa.Ages, bins=[0, 10, 20, 30, 40, 50, 60, 70, 100])\n",
    "sharks_usa.head()"
   ]
  },
  {
   "cell_type": "code",
   "execution_count": 54,
   "metadata": {},
   "outputs": [
    {
     "data": {
      "image/png": "[encoded data removed]",
      "text/plain": [
       "<Figure size 432x288 with 1 Axes>"
      ]
     },
     "metadata": {
      "needs_background": "light"
     },
     "output_type": "display_data"
    }
   ],
   "source": [
    "#El rango de edad con más ataques es de 10-20 años.\n",
    "edades = sns.countplot(x=sharks_usa.AgeRanges, palette=\"Greens\")\n",
    "edades.figure.savefig('output/edades.png')"
   ]
  },
  {
   "cell_type": "code",
   "execution_count": 55,
   "metadata": {},
   "outputs": [
    {
     "data": {
      "text/plain": [
       "28"
      ]
     },
     "execution_count": 55,
     "metadata": {},
     "output_type": "execute_result"
    }
   ],
   "source": [
    "#La edad media de los atacados es:\n",
    "round(sharks_usa['Ages'].mean())"
   ]
  },
  {
   "cell_type": "code",
   "execution_count": 56,
   "metadata": {},
   "outputs": [
    {
     "data": {
      "image/png": "[encoded data removed]",
      "text/plain": [
       "<Figure size 432x288 with 1 Axes>"
      ]
     },
     "metadata": {
      "needs_background": "light"
     },
     "output_type": "display_data"
    }
   ],
   "source": [
    "media = sns.boxplot(y=\"Ages\", data=sharks_usa, palette =\"Oranges\")\n",
    "media.figure.savefig('output/media.png')"
   ]
  },
  {
   "cell_type": "code",
   "execution_count": 57,
   "metadata": {},
   "outputs": [
    {
     "data": {
      "image/png": "[encoded data removed]",
      "text/plain": [
       "<Figure size 432x288 with 1 Axes>"
      ]
     },
     "metadata": {
      "needs_background": "light"
     },
     "output_type": "display_data"
    }
   ],
   "source": [
    "media2 = sns.kdeplot(x=sharks_usa.Ages)\n",
    "media2.axvline(x=sharks_usa.Ages.mean(), c=\"green\", label=\"mean\")\n",
    "plt.legend()\n",
    "media2.figure.savefig('output/media2.png')"
   ]
  },
  {
   "cell_type": "code",
   "execution_count": 58,
   "metadata": {},
   "outputs": [
    {
     "data": {
      "text/plain": [
       "87.0"
      ]
     },
     "execution_count": 58,
     "metadata": {},
     "output_type": "execute_result"
    }
   ],
   "source": [
    "#La persona con más edad atacada:\n",
    "sharks_usa['Ages'].max()"
   ]
  },
  {
   "cell_type": "code",
   "execution_count": 59,
   "metadata": {},
   "outputs": [
    {
     "data": {
      "text/html": [
       "<div>\n",
       "<style scoped>\n",
       "    .dataframe tbody tr th:only-of-type {\n",
       "        vertical-align: middle;\n",
       "    }\n",
       "\n",
       "    .dataframe tbody tr th {\n",
       "        vertical-align: top;\n",
       "    }\n",
       "\n",
       "    .dataframe thead th {\n",
       "        text-align: right;\n",
       "    }\n",
       "</style>\n",
       "<table border=\"1\" class=\"dataframe\">\n",
       "  <thead>\n",
       "    <tr style=\"text-align: right;\">\n",
       "      <th></th>\n",
       "      <th>Year</th>\n",
       "      <th>Country</th>\n",
       "      <th>Activity</th>\n",
       "      <th>Name</th>\n",
       "      <th>Sex</th>\n",
       "      <th>Injury</th>\n",
       "      <th>Fatal (Y/N)</th>\n",
       "      <th>Ages</th>\n",
       "      <th>AgeRanges</th>\n",
       "    </tr>\n",
       "  </thead>\n",
       "  <tbody>\n",
       "    <tr>\n",
       "      <th>2846</th>\n",
       "      <td>1985.0</td>\n",
       "      <td>USA</td>\n",
       "      <td>Wading</td>\n",
       "      <td>Joseph Friedlander</td>\n",
       "      <td>Male</td>\n",
       "      <td>Right calf bitten &amp; less serious injury to lef...</td>\n",
       "      <td>N</td>\n",
       "      <td>87.0</td>\n",
       "      <td>(70, 100]</td>\n",
       "    </tr>\n",
       "  </tbody>\n",
       "</table>\n",
       "</div>"
      ],
      "text/plain": [
       "        Year Country Activity                Name   Sex  \\\n",
       "2846  1985.0     USA   Wading  Joseph Friedlander  Male   \n",
       "\n",
       "                                                 Injury Fatal (Y/N)  Ages  \\\n",
       "2846  Right calf bitten & less serious injury to lef...           N  87.0   \n",
       "\n",
       "      AgeRanges  \n",
       "2846  (70, 100]  "
      ]
     },
     "execution_count": 59,
     "metadata": {},
     "output_type": "execute_result"
    }
   ],
   "source": [
    "sharks_usa.loc[sharks_usa['Ages'] == 87]"
   ]
  },
  {
   "cell_type": "markdown",
   "metadata": {},
   "source": [
    "#### El Señor Joseph Friedlander fue atacado en 1985, no fue fatal (mordida en la pantorrilla derecha y lesión menos grave en el pie izquierdo)"
   ]
  },
  {
   "cell_type": "code",
   "execution_count": 60,
   "metadata": {},
   "outputs": [
    {
     "data": {
      "text/plain": [
       "Surfing                                                                                                    464\n",
       "Swimming                                                                                                   198\n",
       "Wading                                                                                                      79\n",
       "Standing                                                                                                    41\n",
       "Fishing                                                                                                     40\n",
       "                                                                                                          ... \n",
       "Walking / surfing                                                                                            1\n",
       "Fishing (Seining)                                                                                            1\n",
       "Photographing the shark                                                                                      1\n",
       "During a shark fishing tournament, the 18' Boatem was capsized by waves, throwing 3 men into the water       1\n",
       "Adrift on refugee raft                                                                                       1\n",
       "Name: Activity, Length: 293, dtype: int64"
      ]
     },
     "execution_count": 60,
     "metadata": {},
     "output_type": "execute_result"
    }
   ],
   "source": [
    "#Las activifades con más ataques son:\n",
    "sharks_usa['Activity'].value_counts()"
   ]
  },
  {
   "cell_type": "code",
   "execution_count": 61,
   "metadata": {},
   "outputs": [
    {
     "data": {
      "image/png": "[encoded data removed]",
      "text/plain": [
       "<Figure size 360x360 with 1 Axes>"
      ]
     },
     "metadata": {},
     "output_type": "display_data"
    }
   ],
   "source": [
    "Actv = sharks[\"Activity\"].value_counts().nlargest(5).plot.pie(figsize = (5,5), title = \" Top 5 activities\")"
   ]
  },
  {
   "cell_type": "code",
   "execution_count": 62,
   "metadata": {},
   "outputs": [
    {
     "data": {
      "text/plain": [
       "<bound method Series.unique of 0                                                Paddling\n",
       "1                                                Standing\n",
       "2                                                 Surfing\n",
       "7                                                 Fishing\n",
       "8                                                 Walking\n",
       "                              ...                        \n",
       "6036                                             Swimming\n",
       "6061                                             Swimming\n",
       "6089    Fishing from dory, shark upset boat & he fell ...\n",
       "6200                                        Shark tagging\n",
       "6226    Skin diving. Grabbed shark's tail; shark turne...\n",
       "Name: Activity, Length: 1412, dtype: object>"
      ]
     },
     "execution_count": 62,
     "metadata": {},
     "output_type": "execute_result"
    }
   ],
   "source": [
    "sharks_usa['Activity'].unique"
   ]
  },
  {
   "cell_type": "code",
   "execution_count": 63,
   "metadata": {},
   "outputs": [
    {
     "data": {
      "text/plain": [
       "'Surfing'"
      ]
     },
     "execution_count": 63,
     "metadata": {},
     "output_type": "execute_result"
    }
   ],
   "source": [
    "#Las 5 actividades con más ataques son: Surfing, Swimming, Wading, Standing y Fishing.\n",
    "#Creo una función para agrupar las actividades que no son esas 5 en \"Other\".\n",
    "\n",
    "def activity(x):\n",
    "    if x == \"Surfing\": \n",
    "        return \"Surfing\"\n",
    "    elif x == \"Swimming\": \n",
    "        return \"Swimming\"\n",
    "    elif x == \"Wading\": \n",
    "        return \"Wading\"\n",
    "    elif x == \"Standing\": \n",
    "        return \"Standing\"\n",
    "    elif x == \"Fishing\": \n",
    "        return \"Fishing\"\n",
    "    else:\n",
    "        return \"Other\"\n",
    "\n",
    "activity(\"Surfing\")\n"
   ]
  },
  {
   "cell_type": "code",
   "execution_count": 64,
   "metadata": {},
   "outputs": [
    {
     "data": {
      "text/plain": [
       "'Other'"
      ]
     },
     "execution_count": 64,
     "metadata": {},
     "output_type": "execute_result"
    }
   ],
   "source": [
    "activity(\"Lobstering\")"
   ]
  },
  {
   "cell_type": "code",
   "execution_count": 65,
   "metadata": {},
   "outputs": [
    {
     "data": {
      "text/html": [
       "<div>\n",
       "<style scoped>\n",
       "    .dataframe tbody tr th:only-of-type {\n",
       "        vertical-align: middle;\n",
       "    }\n",
       "\n",
       "    .dataframe tbody tr th {\n",
       "        vertical-align: top;\n",
       "    }\n",
       "\n",
       "    .dataframe thead th {\n",
       "        text-align: right;\n",
       "    }\n",
       "</style>\n",
       "<table border=\"1\" class=\"dataframe\">\n",
       "  <thead>\n",
       "    <tr style=\"text-align: right;\">\n",
       "      <th></th>\n",
       "      <th>Year</th>\n",
       "      <th>Country</th>\n",
       "      <th>Activity</th>\n",
       "      <th>Name</th>\n",
       "      <th>Sex</th>\n",
       "      <th>Injury</th>\n",
       "      <th>Fatal (Y/N)</th>\n",
       "      <th>Ages</th>\n",
       "      <th>AgeRanges</th>\n",
       "      <th>Action</th>\n",
       "    </tr>\n",
       "  </thead>\n",
       "  <tbody>\n",
       "    <tr>\n",
       "      <th>0</th>\n",
       "      <td>2018.0</td>\n",
       "      <td>USA</td>\n",
       "      <td>Paddling</td>\n",
       "      <td>Julie Wolfe</td>\n",
       "      <td>Female</td>\n",
       "      <td>No injury to occupant, outrigger canoe and pad...</td>\n",
       "      <td>N</td>\n",
       "      <td>57.0</td>\n",
       "      <td>(50, 60]</td>\n",
       "      <td>Other</td>\n",
       "    </tr>\n",
       "    <tr>\n",
       "      <th>1</th>\n",
       "      <td>2018.0</td>\n",
       "      <td>USA</td>\n",
       "      <td>Standing</td>\n",
       "      <td>Adyson McNeely</td>\n",
       "      <td>Female</td>\n",
       "      <td>Minor injury to left thigh</td>\n",
       "      <td>N</td>\n",
       "      <td>11.0</td>\n",
       "      <td>(10, 20]</td>\n",
       "      <td>Standing</td>\n",
       "    </tr>\n",
       "    <tr>\n",
       "      <th>2</th>\n",
       "      <td>2018.0</td>\n",
       "      <td>USA</td>\n",
       "      <td>Surfing</td>\n",
       "      <td>John Denges</td>\n",
       "      <td>Male</td>\n",
       "      <td>Injury to left lower leg from surfboard skeg</td>\n",
       "      <td>N</td>\n",
       "      <td>48.0</td>\n",
       "      <td>(40, 50]</td>\n",
       "      <td>Surfing</td>\n",
       "    </tr>\n",
       "    <tr>\n",
       "      <th>7</th>\n",
       "      <td>2018.0</td>\n",
       "      <td>USA</td>\n",
       "      <td>Fishing</td>\n",
       "      <td>male</td>\n",
       "      <td>Male</td>\n",
       "      <td>Minor injury to foot. PROVOKED INCIDENT</td>\n",
       "      <td>N</td>\n",
       "      <td>52.0</td>\n",
       "      <td>(50, 60]</td>\n",
       "      <td>Fishing</td>\n",
       "    </tr>\n",
       "    <tr>\n",
       "      <th>8</th>\n",
       "      <td>2018.0</td>\n",
       "      <td>USA</td>\n",
       "      <td>Walking</td>\n",
       "      <td>Cody High</td>\n",
       "      <td>Male</td>\n",
       "      <td>Lower left leg bitten</td>\n",
       "      <td>N</td>\n",
       "      <td>15.0</td>\n",
       "      <td>(10, 20]</td>\n",
       "      <td>Other</td>\n",
       "    </tr>\n",
       "  </tbody>\n",
       "</table>\n",
       "</div>"
      ],
      "text/plain": [
       "     Year Country  Activity             Name     Sex  \\\n",
       "0  2018.0     USA  Paddling      Julie Wolfe  Female   \n",
       "1  2018.0     USA  Standing  Adyson McNeely   Female   \n",
       "2  2018.0     USA   Surfing      John Denges    Male   \n",
       "7  2018.0     USA   Fishing             male    Male   \n",
       "8  2018.0     USA   Walking        Cody High    Male   \n",
       "\n",
       "                                              Injury Fatal (Y/N)  Ages  \\\n",
       "0  No injury to occupant, outrigger canoe and pad...           N  57.0   \n",
       "1                         Minor injury to left thigh           N  11.0   \n",
       "2       Injury to left lower leg from surfboard skeg           N  48.0   \n",
       "7            Minor injury to foot. PROVOKED INCIDENT           N  52.0   \n",
       "8                              Lower left leg bitten           N  15.0   \n",
       "\n",
       "  AgeRanges    Action  \n",
       "0  (50, 60]     Other  \n",
       "1  (10, 20]  Standing  \n",
       "2  (40, 50]   Surfing  \n",
       "7  (50, 60]   Fishing  \n",
       "8  (10, 20]     Other  "
      ]
     },
     "execution_count": 65,
     "metadata": {},
     "output_type": "execute_result"
    }
   ],
   "source": [
    "#Creo una nueva columna con los nuevos 6 valores.\n",
    "sharks_usa['Action'] = sharks_usa['Activity'].apply(activity)\n",
    "sharks_usa.head()"
   ]
  },
  {
   "cell_type": "code",
   "execution_count": 66,
   "metadata": {},
   "outputs": [
    {
     "data": {
      "text/plain": [
       "Other       590\n",
       "Surfing     464\n",
       "Swimming    198\n",
       "Wading       79\n",
       "Standing     41\n",
       "Fishing      40\n",
       "Name: Action, dtype: int64"
      ]
     },
     "execution_count": 66,
     "metadata": {},
     "output_type": "execute_result"
    }
   ],
   "source": [
    "sharks_usa['Action'].value_counts()"
   ]
  },
  {
   "cell_type": "code",
   "execution_count": 67,
   "metadata": {},
   "outputs": [
    {
     "data": {
      "text/plain": [
       "<AxesSubplot:xlabel='Action', ylabel='Count'>"
      ]
     },
     "execution_count": 67,
     "metadata": {},
     "output_type": "execute_result"
    },
    {
     "data": {
      "image/png": "[encoded data removed]",
      "text/plain": [
       "<Figure size 432x288 with 1 Axes>"
      ]
     },
     "metadata": {
      "needs_background": "light"
     },
     "output_type": "display_data"
    }
   ],
   "source": [
    "#A pesar de que la actividad de Surfing es la mayor, existen registros diferentes al top 5 que suman en total más.\n",
    "sns.histplot(x=sharks_usa.Action, kde=True, palette = \"Reds\")"
   ]
  },
  {
   "cell_type": "code",
   "execution_count": 68,
   "metadata": {},
   "outputs": [
    {
     "data": {
      "text/html": [
       "<div>\n",
       "<style scoped>\n",
       "    .dataframe tbody tr th:only-of-type {\n",
       "        vertical-align: middle;\n",
       "    }\n",
       "\n",
       "    .dataframe tbody tr th {\n",
       "        vertical-align: top;\n",
       "    }\n",
       "\n",
       "    .dataframe thead th {\n",
       "        text-align: right;\n",
       "    }\n",
       "</style>\n",
       "<table border=\"1\" class=\"dataframe\">\n",
       "  <thead>\n",
       "    <tr style=\"text-align: right;\">\n",
       "      <th></th>\n",
       "      <th>Year</th>\n",
       "      <th>Country</th>\n",
       "      <th>Name</th>\n",
       "      <th>Sex</th>\n",
       "      <th>Injury</th>\n",
       "      <th>Fatal (Y/N)</th>\n",
       "      <th>Ages</th>\n",
       "      <th>AgeRanges</th>\n",
       "      <th>Action</th>\n",
       "    </tr>\n",
       "  </thead>\n",
       "  <tbody>\n",
       "    <tr>\n",
       "      <th>1201</th>\n",
       "      <td>2008.0</td>\n",
       "      <td>USA</td>\n",
       "      <td>David Carr</td>\n",
       "      <td>Male</td>\n",
       "      <td>Right foot bitten</td>\n",
       "      <td>N</td>\n",
       "      <td>40.0</td>\n",
       "      <td>(30, 40]</td>\n",
       "      <td>Surfing</td>\n",
       "    </tr>\n",
       "    <tr>\n",
       "      <th>2540</th>\n",
       "      <td>1992.0</td>\n",
       "      <td>USA</td>\n",
       "      <td>Keith Caruso</td>\n",
       "      <td>Male</td>\n",
       "      <td>No injury, board bitten</td>\n",
       "      <td>N</td>\n",
       "      <td>22.0</td>\n",
       "      <td>(20, 30]</td>\n",
       "      <td>Surfing</td>\n",
       "    </tr>\n",
       "    <tr>\n",
       "      <th>1565</th>\n",
       "      <td>2005.0</td>\n",
       "      <td>USA</td>\n",
       "      <td>Bob Thompson</td>\n",
       "      <td>Male</td>\n",
       "      <td>Right foot: Toes and back of foot, minor injury</td>\n",
       "      <td>N</td>\n",
       "      <td>61.0</td>\n",
       "      <td>(60, 70]</td>\n",
       "      <td>Surfing</td>\n",
       "    </tr>\n",
       "    <tr>\n",
       "      <th>4469</th>\n",
       "      <td>1950.0</td>\n",
       "      <td>USA</td>\n",
       "      <td>Mark Majors III</td>\n",
       "      <td>Male</td>\n",
       "      <td>Laceration to leg</td>\n",
       "      <td>N</td>\n",
       "      <td>11.0</td>\n",
       "      <td>(10, 20]</td>\n",
       "      <td>Swimming</td>\n",
       "    </tr>\n",
       "    <tr>\n",
       "      <th>3172</th>\n",
       "      <td>1976.0</td>\n",
       "      <td>USA</td>\n",
       "      <td>Michael  Karras, Jr.</td>\n",
       "      <td>Male</td>\n",
       "      <td>FATAL</td>\n",
       "      <td>Y</td>\n",
       "      <td>16.0</td>\n",
       "      <td>(10, 20]</td>\n",
       "      <td>Swimming</td>\n",
       "    </tr>\n",
       "    <tr>\n",
       "      <th>3249</th>\n",
       "      <td>1974.0</td>\n",
       "      <td>USA</td>\n",
       "      <td>Kirk Johnston</td>\n",
       "      <td>Male</td>\n",
       "      <td>Thigh, lower back and surfboard bitten</td>\n",
       "      <td>N</td>\n",
       "      <td>17.0</td>\n",
       "      <td>(10, 20]</td>\n",
       "      <td>Surfing</td>\n",
       "    </tr>\n",
       "    <tr>\n",
       "      <th>5417</th>\n",
       "      <td>1909.0</td>\n",
       "      <td>USA</td>\n",
       "      <td>Henry Munson</td>\n",
       "      <td>Male</td>\n",
       "      <td>Hip &amp; thigh lacerated</td>\n",
       "      <td>N</td>\n",
       "      <td>16.0</td>\n",
       "      <td>(10, 20]</td>\n",
       "      <td>Swimming</td>\n",
       "    </tr>\n",
       "    <tr>\n",
       "      <th>984</th>\n",
       "      <td>2010.0</td>\n",
       "      <td>USA</td>\n",
       "      <td>David Lowden</td>\n",
       "      <td>Male</td>\n",
       "      <td>No injury, surfboard rammed</td>\n",
       "      <td>N</td>\n",
       "      <td>29.0</td>\n",
       "      <td>(20, 30]</td>\n",
       "      <td>Surfing</td>\n",
       "    </tr>\n",
       "    <tr>\n",
       "      <th>2113</th>\n",
       "      <td>1999.0</td>\n",
       "      <td>USA</td>\n",
       "      <td>Michael Knowles</td>\n",
       "      <td>Male</td>\n",
       "      <td>Ankle bitten</td>\n",
       "      <td>N</td>\n",
       "      <td>43.0</td>\n",
       "      <td>(40, 50]</td>\n",
       "      <td>Other</td>\n",
       "    </tr>\n",
       "    <tr>\n",
       "      <th>1245</th>\n",
       "      <td>2008.0</td>\n",
       "      <td>USA</td>\n",
       "      <td>Preston Pearman</td>\n",
       "      <td>Male</td>\n",
       "      <td>Lacerations to hand</td>\n",
       "      <td>N</td>\n",
       "      <td>37.0</td>\n",
       "      <td>(30, 40]</td>\n",
       "      <td>Swimming</td>\n",
       "    </tr>\n",
       "  </tbody>\n",
       "</table>\n",
       "</div>"
      ],
      "text/plain": [
       "        Year Country                  Name   Sex  \\\n",
       "1201  2008.0     USA            David Carr  Male   \n",
       "2540  1992.0     USA          Keith Caruso  Male   \n",
       "1565  2005.0     USA          Bob Thompson  Male   \n",
       "4469  1950.0     USA       Mark Majors III  Male   \n",
       "3172  1976.0     USA  Michael  Karras, Jr.  Male   \n",
       "3249  1974.0     USA         Kirk Johnston  Male   \n",
       "5417  1909.0     USA          Henry Munson  Male   \n",
       "984   2010.0     USA          David Lowden  Male   \n",
       "2113  1999.0     USA       Michael Knowles  Male   \n",
       "1245  2008.0     USA       Preston Pearman  Male   \n",
       "\n",
       "                                               Injury Fatal (Y/N)  Ages  \\\n",
       "1201                                Right foot bitten           N  40.0   \n",
       "2540                          No injury, board bitten           N  22.0   \n",
       "1565  Right foot: Toes and back of foot, minor injury           N  61.0   \n",
       "4469                                Laceration to leg           N  11.0   \n",
       "3172                                            FATAL           Y  16.0   \n",
       "3249           Thigh, lower back and surfboard bitten           N  17.0   \n",
       "5417                            Hip & thigh lacerated           N  16.0   \n",
       "984                       No injury, surfboard rammed           N  29.0   \n",
       "2113                                     Ankle bitten           N  43.0   \n",
       "1245                              Lacerations to hand           N  37.0   \n",
       "\n",
       "     AgeRanges    Action  \n",
       "1201  (30, 40]   Surfing  \n",
       "2540  (20, 30]   Surfing  \n",
       "1565  (60, 70]   Surfing  \n",
       "4469  (10, 20]  Swimming  \n",
       "3172  (10, 20]  Swimming  \n",
       "3249  (10, 20]   Surfing  \n",
       "5417  (10, 20]  Swimming  \n",
       "984   (20, 30]   Surfing  \n",
       "2113  (40, 50]     Other  \n",
       "1245  (30, 40]  Swimming  "
      ]
     },
     "execution_count": 68,
     "metadata": {},
     "output_type": "execute_result"
    }
   ],
   "source": [
    "#Elimino la columna Activity y dejo la columna de Action.\n",
    "sharks_usa = sharks_usa.drop(['Activity'], axis = 1 )\n",
    "sharks_usa.sample(10)"
   ]
  },
  {
   "cell_type": "code",
   "execution_count": 69,
   "metadata": {},
   "outputs": [
    {
     "data": {
      "text/plain": [
       "N          1246\n",
       "Y            78\n",
       "UNKNOWN       3\n",
       "Name: Fatal (Y/N), dtype: int64"
      ]
     },
     "execution_count": 69,
     "metadata": {},
     "output_type": "execute_result"
    }
   ],
   "source": [
    "#Analizo los datos de Fatal. \n",
    "sharks_usa['Fatal (Y/N)'].value_counts()"
   ]
  },
  {
   "cell_type": "code",
   "execution_count": 70,
   "metadata": {},
   "outputs": [],
   "source": [
    "#Reemplazo N, No y Y, Yes."
   ]
  },
  {
   "cell_type": "code",
   "execution_count": 71,
   "metadata": {},
   "outputs": [],
   "source": [
    "sharks_usa['Fatal (Y/N)'].replace('N','No', inplace = True)"
   ]
  },
  {
   "cell_type": "code",
   "execution_count": 72,
   "metadata": {},
   "outputs": [],
   "source": [
    "sharks_usa['Fatal (Y/N)'].replace('Y','Yes', inplace = True)"
   ]
  },
  {
   "cell_type": "code",
   "execution_count": 73,
   "metadata": {},
   "outputs": [
    {
     "data": {
      "text/plain": [
       "No         1246\n",
       "Yes          78\n",
       "UNKNOWN       3\n",
       "Name: Fatal (Y/N), dtype: int64"
      ]
     },
     "execution_count": 73,
     "metadata": {},
     "output_type": "execute_result"
    }
   ],
   "source": [
    "sharks_usa['Fatal (Y/N)'].value_counts()"
   ]
  },
  {
   "cell_type": "code",
   "execution_count": 74,
   "metadata": {},
   "outputs": [
    {
     "data": {
      "text/html": [
       "<div>\n",
       "<style scoped>\n",
       "    .dataframe tbody tr th:only-of-type {\n",
       "        vertical-align: middle;\n",
       "    }\n",
       "\n",
       "    .dataframe tbody tr th {\n",
       "        vertical-align: top;\n",
       "    }\n",
       "\n",
       "    .dataframe thead th {\n",
       "        text-align: right;\n",
       "    }\n",
       "</style>\n",
       "<table border=\"1\" class=\"dataframe\">\n",
       "  <thead>\n",
       "    <tr style=\"text-align: right;\">\n",
       "      <th></th>\n",
       "      <th>Year</th>\n",
       "      <th>Country</th>\n",
       "      <th>Name</th>\n",
       "      <th>Sex</th>\n",
       "      <th>Injury</th>\n",
       "      <th>Fatal (Y/N)</th>\n",
       "      <th>Ages</th>\n",
       "      <th>AgeRanges</th>\n",
       "      <th>Action</th>\n",
       "    </tr>\n",
       "  </thead>\n",
       "  <tbody>\n",
       "    <tr>\n",
       "      <th>2648</th>\n",
       "      <td>1990.0</td>\n",
       "      <td>USA</td>\n",
       "      <td>male</td>\n",
       "      <td>Male</td>\n",
       "      <td>NaN</td>\n",
       "      <td>UNKNOWN</td>\n",
       "      <td>17.0</td>\n",
       "      <td>(10, 20]</td>\n",
       "      <td>Surfing</td>\n",
       "    </tr>\n",
       "    <tr>\n",
       "      <th>3429</th>\n",
       "      <td>1969.0</td>\n",
       "      <td>USA</td>\n",
       "      <td>Steven Benham</td>\n",
       "      <td>Male</td>\n",
       "      <td>No details</td>\n",
       "      <td>UNKNOWN</td>\n",
       "      <td>22.0</td>\n",
       "      <td>(20, 30]</td>\n",
       "      <td>Wading</td>\n",
       "    </tr>\n",
       "    <tr>\n",
       "      <th>4269</th>\n",
       "      <td>1956.0</td>\n",
       "      <td>USA</td>\n",
       "      <td>girl</td>\n",
       "      <td>Female</td>\n",
       "      <td>No details</td>\n",
       "      <td>UNKNOWN</td>\n",
       "      <td>14.0</td>\n",
       "      <td>(10, 20]</td>\n",
       "      <td>Swimming</td>\n",
       "    </tr>\n",
       "  </tbody>\n",
       "</table>\n",
       "</div>"
      ],
      "text/plain": [
       "        Year Country           Name     Sex      Injury Fatal (Y/N)  Ages  \\\n",
       "2648  1990.0     USA           male    Male         NaN     UNKNOWN  17.0   \n",
       "3429  1969.0     USA  Steven Benham    Male  No details     UNKNOWN  22.0   \n",
       "4269  1956.0     USA           girl  Female  No details     UNKNOWN  14.0   \n",
       "\n",
       "     AgeRanges    Action  \n",
       "2648  (10, 20]   Surfing  \n",
       "3429  (20, 30]    Wading  \n",
       "4269  (10, 20]  Swimming  "
      ]
     },
     "execution_count": 74,
     "metadata": {},
     "output_type": "execute_result"
    }
   ],
   "source": [
    "#Observo los Unknown y no puedo deducir si son Yes o No por falta de información.\n",
    "sharks_usa.loc[sharks_usa['Fatal (Y/N)'] == 'UNKNOWN']"
   ]
  },
  {
   "cell_type": "code",
   "execution_count": 75,
   "metadata": {},
   "outputs": [],
   "source": [
    "#Reemplazo UNKNOWN por Unknown para que los tres nombres tengan la misma forma.\n",
    "sharks_usa['Fatal (Y/N)'].replace('UNKNOWN','Unknown', inplace = True)"
   ]
  },
  {
   "cell_type": "code",
   "execution_count": 76,
   "metadata": {},
   "outputs": [
    {
     "data": {
      "text/plain": [
       "No         1246\n",
       "Yes          78\n",
       "Unknown       3\n",
       "Name: Fatal (Y/N), dtype: int64"
      ]
     },
     "execution_count": 76,
     "metadata": {},
     "output_type": "execute_result"
    }
   ],
   "source": [
    "sharks_usa['Fatal (Y/N)'].value_counts()"
   ]
  },
  {
   "cell_type": "code",
   "execution_count": 77,
   "metadata": {},
   "outputs": [
    {
     "ename": "ModuleNotFoundError",
     "evalue": "No module named 'cleaning_func'",
     "output_type": "error",
     "traceback": [
      "\u001b[0;31m---------------------------------------------------------------------------\u001b[0m",
      "\u001b[0;31mModuleNotFoundError\u001b[0m                       Traceback (most recent call last)",
      "\u001b[0;32m<ipython-input-77-c8949d00892d>\u001b[0m in \u001b[0;36m<module>\u001b[0;34m\u001b[0m\n\u001b[1;32m      1\u001b[0m \u001b[0;31m#intento importar la función de porcentaje creada pero dice que no existe..\u001b[0m\u001b[0;34m\u001b[0m\u001b[0;34m\u001b[0m\u001b[0;34m\u001b[0m\u001b[0m\n\u001b[0;32m----> 2\u001b[0;31m \u001b[0;32mfrom\u001b[0m \u001b[0mcleaning_func\u001b[0m \u001b[0;32mimport\u001b[0m \u001b[0mporcentaje\u001b[0m\u001b[0;34m\u001b[0m\u001b[0;34m\u001b[0m\u001b[0m\n\u001b[0m",
      "\u001b[0;31mModuleNotFoundError\u001b[0m: No module named 'cleaning_func'"
     ]
    }
   ],
   "source": [
    "#intento importar la función de porcentaje creada pero dice que no existe..\n",
    "from cleaning_func import porcentaje"
   ]
  },
  {
   "cell_type": "code",
   "execution_count": 78,
   "metadata": {},
   "outputs": [
    {
     "data": {
      "text/html": [
       "<div>\n",
       "<style scoped>\n",
       "    .dataframe tbody tr th:only-of-type {\n",
       "        vertical-align: middle;\n",
       "    }\n",
       "\n",
       "    .dataframe tbody tr th {\n",
       "        vertical-align: top;\n",
       "    }\n",
       "\n",
       "    .dataframe thead th {\n",
       "        text-align: right;\n",
       "    }\n",
       "</style>\n",
       "<table border=\"1\" class=\"dataframe\">\n",
       "  <thead>\n",
       "    <tr style=\"text-align: right;\">\n",
       "      <th></th>\n",
       "      <th>Year</th>\n",
       "      <th>Country</th>\n",
       "      <th>Name</th>\n",
       "      <th>Sex</th>\n",
       "      <th>Injury</th>\n",
       "      <th>Fatal (Y/N)</th>\n",
       "      <th>Ages</th>\n",
       "      <th>AgeRanges</th>\n",
       "      <th>Action</th>\n",
       "    </tr>\n",
       "  </thead>\n",
       "  <tbody>\n",
       "    <tr>\n",
       "      <th>0</th>\n",
       "      <td>2018.0</td>\n",
       "      <td>USA</td>\n",
       "      <td>Julie Wolfe</td>\n",
       "      <td>Female</td>\n",
       "      <td>No injury to occupant, outrigger canoe and pad...</td>\n",
       "      <td>No</td>\n",
       "      <td>57.0</td>\n",
       "      <td>(50, 60]</td>\n",
       "      <td>Other</td>\n",
       "    </tr>\n",
       "    <tr>\n",
       "      <th>1</th>\n",
       "      <td>2018.0</td>\n",
       "      <td>USA</td>\n",
       "      <td>Adyson McNeely</td>\n",
       "      <td>Female</td>\n",
       "      <td>Minor injury to left thigh</td>\n",
       "      <td>No</td>\n",
       "      <td>11.0</td>\n",
       "      <td>(10, 20]</td>\n",
       "      <td>Standing</td>\n",
       "    </tr>\n",
       "    <tr>\n",
       "      <th>2</th>\n",
       "      <td>2018.0</td>\n",
       "      <td>USA</td>\n",
       "      <td>John Denges</td>\n",
       "      <td>Male</td>\n",
       "      <td>Injury to left lower leg from surfboard skeg</td>\n",
       "      <td>No</td>\n",
       "      <td>48.0</td>\n",
       "      <td>(40, 50]</td>\n",
       "      <td>Surfing</td>\n",
       "    </tr>\n",
       "    <tr>\n",
       "      <th>7</th>\n",
       "      <td>2018.0</td>\n",
       "      <td>USA</td>\n",
       "      <td>male</td>\n",
       "      <td>Male</td>\n",
       "      <td>Minor injury to foot. PROVOKED INCIDENT</td>\n",
       "      <td>No</td>\n",
       "      <td>52.0</td>\n",
       "      <td>(50, 60]</td>\n",
       "      <td>Fishing</td>\n",
       "    </tr>\n",
       "    <tr>\n",
       "      <th>8</th>\n",
       "      <td>2018.0</td>\n",
       "      <td>USA</td>\n",
       "      <td>Cody High</td>\n",
       "      <td>Male</td>\n",
       "      <td>Lower left leg bitten</td>\n",
       "      <td>No</td>\n",
       "      <td>15.0</td>\n",
       "      <td>(10, 20]</td>\n",
       "      <td>Other</td>\n",
       "    </tr>\n",
       "  </tbody>\n",
       "</table>\n",
       "</div>"
      ],
      "text/plain": [
       "     Year Country             Name     Sex  \\\n",
       "0  2018.0     USA      Julie Wolfe  Female   \n",
       "1  2018.0     USA  Adyson McNeely   Female   \n",
       "2  2018.0     USA      John Denges    Male   \n",
       "7  2018.0     USA             male    Male   \n",
       "8  2018.0     USA        Cody High    Male   \n",
       "\n",
       "                                              Injury Fatal (Y/N)  Ages  \\\n",
       "0  No injury to occupant, outrigger canoe and pad...          No  57.0   \n",
       "1                         Minor injury to left thigh          No  11.0   \n",
       "2       Injury to left lower leg from surfboard skeg          No  48.0   \n",
       "7            Minor injury to foot. PROVOKED INCIDENT          No  52.0   \n",
       "8                              Lower left leg bitten          No  15.0   \n",
       "\n",
       "  AgeRanges    Action  \n",
       "0  (50, 60]     Other  \n",
       "1  (10, 20]  Standing  \n",
       "2  (40, 50]   Surfing  \n",
       "7  (50, 60]   Fishing  \n",
       "8  (10, 20]     Other  "
      ]
     },
     "execution_count": 78,
     "metadata": {},
     "output_type": "execute_result"
    }
   ],
   "source": [
    "sharks_usa.head()"
   ]
  },
  {
   "cell_type": "code",
   "execution_count": 79,
   "metadata": {},
   "outputs": [
    {
     "data": {
      "text/plain": [
       "male               91\n",
       "female             33\n",
       "girl                3\n",
       "Kenny Burns         2\n",
       "Gary Johnson        2\n",
       "                   ..\n",
       "Michael Pollard     1\n",
       "Paul Ausum          1\n",
       "Sam Bendall         1\n",
       "Scott Stephens      1\n",
       "Todd Endris         1\n",
       "Name: Name, Length: 1281, dtype: int64"
      ]
     },
     "execution_count": 79,
     "metadata": {},
     "output_type": "execute_result"
    }
   ],
   "source": [
    "#Observo que dentro de Name hay valores que no son correctos.\n",
    "sharks_usa['Name'].value_counts()"
   ]
  },
  {
   "cell_type": "code",
   "execution_count": 80,
   "metadata": {},
   "outputs": [
    {
     "data": {
      "text/plain": [
       "'NoName'"
      ]
     },
     "execution_count": 80,
     "metadata": {},
     "output_type": "execute_result"
    }
   ],
   "source": [
    "#Defino una función para quedarme solo con nombres y el resto lo agrupo en NoName.\n",
    "def name(x):\n",
    "    if x == \"male\": \n",
    "        return \"NoName\"\n",
    "    elif x == \"female\": \n",
    "        return \"NoName\"\n",
    "    elif x == \"girl\": \n",
    "        return \"NoName\"\n",
    "    else:\n",
    "        return x\n",
    "\n",
    "name(\"male\")"
   ]
  },
  {
   "cell_type": "code",
   "execution_count": 81,
   "metadata": {},
   "outputs": [
    {
     "data": {
      "text/plain": [
       "'Charles Cook'"
      ]
     },
     "execution_count": 81,
     "metadata": {},
     "output_type": "execute_result"
    }
   ],
   "source": [
    "name(\"Charles Cook\")"
   ]
  },
  {
   "cell_type": "code",
   "execution_count": 82,
   "metadata": {},
   "outputs": [],
   "source": [
    "sharks_usa['Name & Last Name'] = sharks_usa['Name'].apply(name)"
   ]
  },
  {
   "cell_type": "code",
   "execution_count": 83,
   "metadata": {},
   "outputs": [
    {
     "data": {
      "text/html": [
       "<div>\n",
       "<style scoped>\n",
       "    .dataframe tbody tr th:only-of-type {\n",
       "        vertical-align: middle;\n",
       "    }\n",
       "\n",
       "    .dataframe tbody tr th {\n",
       "        vertical-align: top;\n",
       "    }\n",
       "\n",
       "    .dataframe thead th {\n",
       "        text-align: right;\n",
       "    }\n",
       "</style>\n",
       "<table border=\"1\" class=\"dataframe\">\n",
       "  <thead>\n",
       "    <tr style=\"text-align: right;\">\n",
       "      <th></th>\n",
       "      <th>Year</th>\n",
       "      <th>Country</th>\n",
       "      <th>Name</th>\n",
       "      <th>Sex</th>\n",
       "      <th>Injury</th>\n",
       "      <th>Fatal (Y/N)</th>\n",
       "      <th>Ages</th>\n",
       "      <th>AgeRanges</th>\n",
       "      <th>Action</th>\n",
       "      <th>Name &amp; Last Name</th>\n",
       "    </tr>\n",
       "  </thead>\n",
       "  <tbody>\n",
       "    <tr>\n",
       "      <th>0</th>\n",
       "      <td>2018.0</td>\n",
       "      <td>USA</td>\n",
       "      <td>Julie Wolfe</td>\n",
       "      <td>Female</td>\n",
       "      <td>No injury to occupant, outrigger canoe and pad...</td>\n",
       "      <td>No</td>\n",
       "      <td>57.0</td>\n",
       "      <td>(50, 60]</td>\n",
       "      <td>Other</td>\n",
       "      <td>Julie Wolfe</td>\n",
       "    </tr>\n",
       "    <tr>\n",
       "      <th>1</th>\n",
       "      <td>2018.0</td>\n",
       "      <td>USA</td>\n",
       "      <td>Adyson McNeely</td>\n",
       "      <td>Female</td>\n",
       "      <td>Minor injury to left thigh</td>\n",
       "      <td>No</td>\n",
       "      <td>11.0</td>\n",
       "      <td>(10, 20]</td>\n",
       "      <td>Standing</td>\n",
       "      <td>Adyson McNeely</td>\n",
       "    </tr>\n",
       "    <tr>\n",
       "      <th>2</th>\n",
       "      <td>2018.0</td>\n",
       "      <td>USA</td>\n",
       "      <td>John Denges</td>\n",
       "      <td>Male</td>\n",
       "      <td>Injury to left lower leg from surfboard skeg</td>\n",
       "      <td>No</td>\n",
       "      <td>48.0</td>\n",
       "      <td>(40, 50]</td>\n",
       "      <td>Surfing</td>\n",
       "      <td>John Denges</td>\n",
       "    </tr>\n",
       "    <tr>\n",
       "      <th>7</th>\n",
       "      <td>2018.0</td>\n",
       "      <td>USA</td>\n",
       "      <td>male</td>\n",
       "      <td>Male</td>\n",
       "      <td>Minor injury to foot. PROVOKED INCIDENT</td>\n",
       "      <td>No</td>\n",
       "      <td>52.0</td>\n",
       "      <td>(50, 60]</td>\n",
       "      <td>Fishing</td>\n",
       "      <td>NoName</td>\n",
       "    </tr>\n",
       "    <tr>\n",
       "      <th>8</th>\n",
       "      <td>2018.0</td>\n",
       "      <td>USA</td>\n",
       "      <td>Cody High</td>\n",
       "      <td>Male</td>\n",
       "      <td>Lower left leg bitten</td>\n",
       "      <td>No</td>\n",
       "      <td>15.0</td>\n",
       "      <td>(10, 20]</td>\n",
       "      <td>Other</td>\n",
       "      <td>Cody High</td>\n",
       "    </tr>\n",
       "    <tr>\n",
       "      <th>...</th>\n",
       "      <td>...</td>\n",
       "      <td>...</td>\n",
       "      <td>...</td>\n",
       "      <td>...</td>\n",
       "      <td>...</td>\n",
       "      <td>...</td>\n",
       "      <td>...</td>\n",
       "      <td>...</td>\n",
       "      <td>...</td>\n",
       "      <td>...</td>\n",
       "    </tr>\n",
       "    <tr>\n",
       "      <th>6036</th>\n",
       "      <td>1848.0</td>\n",
       "      <td>USA</td>\n",
       "      <td>William Haywood</td>\n",
       "      <td>Male</td>\n",
       "      <td>Left leg severely bitten</td>\n",
       "      <td>No</td>\n",
       "      <td>15.0</td>\n",
       "      <td>(10, 20]</td>\n",
       "      <td>Swimming</td>\n",
       "      <td>William Haywood</td>\n",
       "    </tr>\n",
       "    <tr>\n",
       "      <th>6061</th>\n",
       "      <td>1842.0</td>\n",
       "      <td>USA</td>\n",
       "      <td>male</td>\n",
       "      <td>Male</td>\n",
       "      <td>Lacerations to leg</td>\n",
       "      <td>No</td>\n",
       "      <td>15.0</td>\n",
       "      <td>(10, 20]</td>\n",
       "      <td>Swimming</td>\n",
       "      <td>NoName</td>\n",
       "    </tr>\n",
       "    <tr>\n",
       "      <th>6089</th>\n",
       "      <td>1830.0</td>\n",
       "      <td>USA</td>\n",
       "      <td>Joseph Blaney</td>\n",
       "      <td>Male</td>\n",
       "      <td>FATAL</td>\n",
       "      <td>Yes</td>\n",
       "      <td>52.0</td>\n",
       "      <td>(50, 60]</td>\n",
       "      <td>Other</td>\n",
       "      <td>Joseph Blaney</td>\n",
       "    </tr>\n",
       "    <tr>\n",
       "      <th>6200</th>\n",
       "      <td>0.0</td>\n",
       "      <td>USA</td>\n",
       "      <td>Danniell Washington</td>\n",
       "      <td>Female</td>\n",
       "      <td>Severe abrasion to forearm from captive shark ...</td>\n",
       "      <td>No</td>\n",
       "      <td>21.0</td>\n",
       "      <td>(20, 30]</td>\n",
       "      <td>Other</td>\n",
       "      <td>Danniell Washington</td>\n",
       "    </tr>\n",
       "    <tr>\n",
       "      <th>6226</th>\n",
       "      <td>0.0</td>\n",
       "      <td>USA</td>\n",
       "      <td>Carl Bruster</td>\n",
       "      <td>Male</td>\n",
       "      <td>Ankle punctured &amp; lacerated, hands abraded PRO...</td>\n",
       "      <td>No</td>\n",
       "      <td>19.0</td>\n",
       "      <td>(10, 20]</td>\n",
       "      <td>Other</td>\n",
       "      <td>Carl Bruster</td>\n",
       "    </tr>\n",
       "  </tbody>\n",
       "</table>\n",
       "<p>1412 rows × 10 columns</p>\n",
       "</div>"
      ],
      "text/plain": [
       "        Year Country                 Name     Sex  \\\n",
       "0     2018.0     USA          Julie Wolfe  Female   \n",
       "1     2018.0     USA      Adyson McNeely   Female   \n",
       "2     2018.0     USA          John Denges    Male   \n",
       "7     2018.0     USA                 male    Male   \n",
       "8     2018.0     USA            Cody High    Male   \n",
       "...      ...     ...                  ...     ...   \n",
       "6036  1848.0     USA      William Haywood    Male   \n",
       "6061  1842.0     USA                 male    Male   \n",
       "6089  1830.0     USA        Joseph Blaney    Male   \n",
       "6200     0.0     USA  Danniell Washington  Female   \n",
       "6226     0.0     USA         Carl Bruster    Male   \n",
       "\n",
       "                                                 Injury Fatal (Y/N)  Ages  \\\n",
       "0     No injury to occupant, outrigger canoe and pad...          No  57.0   \n",
       "1                            Minor injury to left thigh          No  11.0   \n",
       "2          Injury to left lower leg from surfboard skeg          No  48.0   \n",
       "7               Minor injury to foot. PROVOKED INCIDENT          No  52.0   \n",
       "8                                 Lower left leg bitten          No  15.0   \n",
       "...                                                 ...         ...   ...   \n",
       "6036                           Left leg severely bitten          No  15.0   \n",
       "6061                                 Lacerations to leg          No  15.0   \n",
       "6089                                              FATAL         Yes  52.0   \n",
       "6200  Severe abrasion to forearm from captive shark ...          No  21.0   \n",
       "6226  Ankle punctured & lacerated, hands abraded PRO...          No  19.0   \n",
       "\n",
       "     AgeRanges    Action     Name & Last Name  \n",
       "0     (50, 60]     Other          Julie Wolfe  \n",
       "1     (10, 20]  Standing      Adyson McNeely   \n",
       "2     (40, 50]   Surfing          John Denges  \n",
       "7     (50, 60]   Fishing               NoName  \n",
       "8     (10, 20]     Other            Cody High  \n",
       "...        ...       ...                  ...  \n",
       "6036  (10, 20]  Swimming      William Haywood  \n",
       "6061  (10, 20]  Swimming               NoName  \n",
       "6089  (50, 60]     Other        Joseph Blaney  \n",
       "6200  (20, 30]     Other  Danniell Washington  \n",
       "6226  (10, 20]     Other         Carl Bruster  \n",
       "\n",
       "[1412 rows x 10 columns]"
      ]
     },
     "execution_count": 83,
     "metadata": {},
     "output_type": "execute_result"
    }
   ],
   "source": [
    "sharks_usa"
   ]
  },
  {
   "cell_type": "code",
   "execution_count": 84,
   "metadata": {},
   "outputs": [
    {
     "data": {
      "text/html": [
       "<div>\n",
       "<style scoped>\n",
       "    .dataframe tbody tr th:only-of-type {\n",
       "        vertical-align: middle;\n",
       "    }\n",
       "\n",
       "    .dataframe tbody tr th {\n",
       "        vertical-align: top;\n",
       "    }\n",
       "\n",
       "    .dataframe thead th {\n",
       "        text-align: right;\n",
       "    }\n",
       "</style>\n",
       "<table border=\"1\" class=\"dataframe\">\n",
       "  <thead>\n",
       "    <tr style=\"text-align: right;\">\n",
       "      <th></th>\n",
       "      <th>Year</th>\n",
       "      <th>Country</th>\n",
       "      <th>Sex</th>\n",
       "      <th>Injury</th>\n",
       "      <th>Fatal (Y/N)</th>\n",
       "      <th>Ages</th>\n",
       "      <th>AgeRanges</th>\n",
       "      <th>Action</th>\n",
       "      <th>Name &amp; Last Name</th>\n",
       "    </tr>\n",
       "  </thead>\n",
       "  <tbody>\n",
       "    <tr>\n",
       "      <th>0</th>\n",
       "      <td>2018.0</td>\n",
       "      <td>USA</td>\n",
       "      <td>Female</td>\n",
       "      <td>No injury to occupant, outrigger canoe and pad...</td>\n",
       "      <td>No</td>\n",
       "      <td>57.0</td>\n",
       "      <td>(50, 60]</td>\n",
       "      <td>Other</td>\n",
       "      <td>Julie Wolfe</td>\n",
       "    </tr>\n",
       "    <tr>\n",
       "      <th>1</th>\n",
       "      <td>2018.0</td>\n",
       "      <td>USA</td>\n",
       "      <td>Female</td>\n",
       "      <td>Minor injury to left thigh</td>\n",
       "      <td>No</td>\n",
       "      <td>11.0</td>\n",
       "      <td>(10, 20]</td>\n",
       "      <td>Standing</td>\n",
       "      <td>Adyson McNeely</td>\n",
       "    </tr>\n",
       "    <tr>\n",
       "      <th>2</th>\n",
       "      <td>2018.0</td>\n",
       "      <td>USA</td>\n",
       "      <td>Male</td>\n",
       "      <td>Injury to left lower leg from surfboard skeg</td>\n",
       "      <td>No</td>\n",
       "      <td>48.0</td>\n",
       "      <td>(40, 50]</td>\n",
       "      <td>Surfing</td>\n",
       "      <td>John Denges</td>\n",
       "    </tr>\n",
       "    <tr>\n",
       "      <th>7</th>\n",
       "      <td>2018.0</td>\n",
       "      <td>USA</td>\n",
       "      <td>Male</td>\n",
       "      <td>Minor injury to foot. PROVOKED INCIDENT</td>\n",
       "      <td>No</td>\n",
       "      <td>52.0</td>\n",
       "      <td>(50, 60]</td>\n",
       "      <td>Fishing</td>\n",
       "      <td>NoName</td>\n",
       "    </tr>\n",
       "    <tr>\n",
       "      <th>8</th>\n",
       "      <td>2018.0</td>\n",
       "      <td>USA</td>\n",
       "      <td>Male</td>\n",
       "      <td>Lower left leg bitten</td>\n",
       "      <td>No</td>\n",
       "      <td>15.0</td>\n",
       "      <td>(10, 20]</td>\n",
       "      <td>Other</td>\n",
       "      <td>Cody High</td>\n",
       "    </tr>\n",
       "  </tbody>\n",
       "</table>\n",
       "</div>"
      ],
      "text/plain": [
       "     Year Country     Sex                                             Injury  \\\n",
       "0  2018.0     USA  Female  No injury to occupant, outrigger canoe and pad...   \n",
       "1  2018.0     USA  Female                         Minor injury to left thigh   \n",
       "2  2018.0     USA    Male       Injury to left lower leg from surfboard skeg   \n",
       "7  2018.0     USA    Male            Minor injury to foot. PROVOKED INCIDENT   \n",
       "8  2018.0     USA    Male                              Lower left leg bitten   \n",
       "\n",
       "  Fatal (Y/N)  Ages AgeRanges    Action Name & Last Name  \n",
       "0          No  57.0  (50, 60]     Other      Julie Wolfe  \n",
       "1          No  11.0  (10, 20]  Standing  Adyson McNeely   \n",
       "2          No  48.0  (40, 50]   Surfing      John Denges  \n",
       "7          No  52.0  (50, 60]   Fishing           NoName  \n",
       "8          No  15.0  (10, 20]     Other        Cody High  "
      ]
     },
     "execution_count": 84,
     "metadata": {},
     "output_type": "execute_result"
    }
   ],
   "source": [
    "#Elimino la columna Name.\n",
    "sharks_usa = sharks_usa.drop(['Name'], axis = 1 )\n",
    "sharks_usa.head()"
   ]
  },
  {
   "cell_type": "code",
   "execution_count": 85,
   "metadata": {},
   "outputs": [],
   "source": [
    "#Reordeno las columnas\n",
    "sharks_usa = sharks_usa[['Year','Country', 'Name & Last Name', 'Sex', 'Ages', 'AgeRanges', 'Action', 'Injury', 'Fatal (Y/N)']]"
   ]
  },
  {
   "cell_type": "code",
   "execution_count": 86,
   "metadata": {},
   "outputs": [
    {
     "data": {
      "text/html": [
       "<div>\n",
       "<style scoped>\n",
       "    .dataframe tbody tr th:only-of-type {\n",
       "        vertical-align: middle;\n",
       "    }\n",
       "\n",
       "    .dataframe tbody tr th {\n",
       "        vertical-align: top;\n",
       "    }\n",
       "\n",
       "    .dataframe thead th {\n",
       "        text-align: right;\n",
       "    }\n",
       "</style>\n",
       "<table border=\"1\" class=\"dataframe\">\n",
       "  <thead>\n",
       "    <tr style=\"text-align: right;\">\n",
       "      <th></th>\n",
       "      <th>Year</th>\n",
       "      <th>Country</th>\n",
       "      <th>Name &amp; Last Name</th>\n",
       "      <th>Sex</th>\n",
       "      <th>Ages</th>\n",
       "      <th>AgeRanges</th>\n",
       "      <th>Action</th>\n",
       "      <th>Injury</th>\n",
       "      <th>Fatal (Y/N)</th>\n",
       "    </tr>\n",
       "  </thead>\n",
       "  <tbody>\n",
       "    <tr>\n",
       "      <th>0</th>\n",
       "      <td>2018.0</td>\n",
       "      <td>USA</td>\n",
       "      <td>Julie Wolfe</td>\n",
       "      <td>Female</td>\n",
       "      <td>57.0</td>\n",
       "      <td>(50, 60]</td>\n",
       "      <td>Other</td>\n",
       "      <td>No injury to occupant, outrigger canoe and pad...</td>\n",
       "      <td>No</td>\n",
       "    </tr>\n",
       "    <tr>\n",
       "      <th>1</th>\n",
       "      <td>2018.0</td>\n",
       "      <td>USA</td>\n",
       "      <td>Adyson McNeely</td>\n",
       "      <td>Female</td>\n",
       "      <td>11.0</td>\n",
       "      <td>(10, 20]</td>\n",
       "      <td>Standing</td>\n",
       "      <td>Minor injury to left thigh</td>\n",
       "      <td>No</td>\n",
       "    </tr>\n",
       "    <tr>\n",
       "      <th>2</th>\n",
       "      <td>2018.0</td>\n",
       "      <td>USA</td>\n",
       "      <td>John Denges</td>\n",
       "      <td>Male</td>\n",
       "      <td>48.0</td>\n",
       "      <td>(40, 50]</td>\n",
       "      <td>Surfing</td>\n",
       "      <td>Injury to left lower leg from surfboard skeg</td>\n",
       "      <td>No</td>\n",
       "    </tr>\n",
       "    <tr>\n",
       "      <th>7</th>\n",
       "      <td>2018.0</td>\n",
       "      <td>USA</td>\n",
       "      <td>NoName</td>\n",
       "      <td>Male</td>\n",
       "      <td>52.0</td>\n",
       "      <td>(50, 60]</td>\n",
       "      <td>Fishing</td>\n",
       "      <td>Minor injury to foot. PROVOKED INCIDENT</td>\n",
       "      <td>No</td>\n",
       "    </tr>\n",
       "    <tr>\n",
       "      <th>8</th>\n",
       "      <td>2018.0</td>\n",
       "      <td>USA</td>\n",
       "      <td>Cody High</td>\n",
       "      <td>Male</td>\n",
       "      <td>15.0</td>\n",
       "      <td>(10, 20]</td>\n",
       "      <td>Other</td>\n",
       "      <td>Lower left leg bitten</td>\n",
       "      <td>No</td>\n",
       "    </tr>\n",
       "    <tr>\n",
       "      <th>...</th>\n",
       "      <td>...</td>\n",
       "      <td>...</td>\n",
       "      <td>...</td>\n",
       "      <td>...</td>\n",
       "      <td>...</td>\n",
       "      <td>...</td>\n",
       "      <td>...</td>\n",
       "      <td>...</td>\n",
       "      <td>...</td>\n",
       "    </tr>\n",
       "    <tr>\n",
       "      <th>6036</th>\n",
       "      <td>1848.0</td>\n",
       "      <td>USA</td>\n",
       "      <td>William Haywood</td>\n",
       "      <td>Male</td>\n",
       "      <td>15.0</td>\n",
       "      <td>(10, 20]</td>\n",
       "      <td>Swimming</td>\n",
       "      <td>Left leg severely bitten</td>\n",
       "      <td>No</td>\n",
       "    </tr>\n",
       "    <tr>\n",
       "      <th>6061</th>\n",
       "      <td>1842.0</td>\n",
       "      <td>USA</td>\n",
       "      <td>NoName</td>\n",
       "      <td>Male</td>\n",
       "      <td>15.0</td>\n",
       "      <td>(10, 20]</td>\n",
       "      <td>Swimming</td>\n",
       "      <td>Lacerations to leg</td>\n",
       "      <td>No</td>\n",
       "    </tr>\n",
       "    <tr>\n",
       "      <th>6089</th>\n",
       "      <td>1830.0</td>\n",
       "      <td>USA</td>\n",
       "      <td>Joseph Blaney</td>\n",
       "      <td>Male</td>\n",
       "      <td>52.0</td>\n",
       "      <td>(50, 60]</td>\n",
       "      <td>Other</td>\n",
       "      <td>FATAL</td>\n",
       "      <td>Yes</td>\n",
       "    </tr>\n",
       "    <tr>\n",
       "      <th>6200</th>\n",
       "      <td>0.0</td>\n",
       "      <td>USA</td>\n",
       "      <td>Danniell Washington</td>\n",
       "      <td>Female</td>\n",
       "      <td>21.0</td>\n",
       "      <td>(20, 30]</td>\n",
       "      <td>Other</td>\n",
       "      <td>Severe abrasion to forearm from captive shark ...</td>\n",
       "      <td>No</td>\n",
       "    </tr>\n",
       "    <tr>\n",
       "      <th>6226</th>\n",
       "      <td>0.0</td>\n",
       "      <td>USA</td>\n",
       "      <td>Carl Bruster</td>\n",
       "      <td>Male</td>\n",
       "      <td>19.0</td>\n",
       "      <td>(10, 20]</td>\n",
       "      <td>Other</td>\n",
       "      <td>Ankle punctured &amp; lacerated, hands abraded PRO...</td>\n",
       "      <td>No</td>\n",
       "    </tr>\n",
       "  </tbody>\n",
       "</table>\n",
       "<p>1412 rows × 9 columns</p>\n",
       "</div>"
      ],
      "text/plain": [
       "        Year Country     Name & Last Name     Sex  Ages AgeRanges    Action  \\\n",
       "0     2018.0     USA          Julie Wolfe  Female  57.0  (50, 60]     Other   \n",
       "1     2018.0     USA      Adyson McNeely   Female  11.0  (10, 20]  Standing   \n",
       "2     2018.0     USA          John Denges    Male  48.0  (40, 50]   Surfing   \n",
       "7     2018.0     USA               NoName    Male  52.0  (50, 60]   Fishing   \n",
       "8     2018.0     USA            Cody High    Male  15.0  (10, 20]     Other   \n",
       "...      ...     ...                  ...     ...   ...       ...       ...   \n",
       "6036  1848.0     USA      William Haywood    Male  15.0  (10, 20]  Swimming   \n",
       "6061  1842.0     USA               NoName    Male  15.0  (10, 20]  Swimming   \n",
       "6089  1830.0     USA        Joseph Blaney    Male  52.0  (50, 60]     Other   \n",
       "6200     0.0     USA  Danniell Washington  Female  21.0  (20, 30]     Other   \n",
       "6226     0.0     USA         Carl Bruster    Male  19.0  (10, 20]     Other   \n",
       "\n",
       "                                                 Injury Fatal (Y/N)  \n",
       "0     No injury to occupant, outrigger canoe and pad...          No  \n",
       "1                            Minor injury to left thigh          No  \n",
       "2          Injury to left lower leg from surfboard skeg          No  \n",
       "7               Minor injury to foot. PROVOKED INCIDENT          No  \n",
       "8                                 Lower left leg bitten          No  \n",
       "...                                                 ...         ...  \n",
       "6036                           Left leg severely bitten          No  \n",
       "6061                                 Lacerations to leg          No  \n",
       "6089                                              FATAL         Yes  \n",
       "6200  Severe abrasion to forearm from captive shark ...          No  \n",
       "6226  Ankle punctured & lacerated, hands abraded PRO...          No  \n",
       "\n",
       "[1412 rows x 9 columns]"
      ]
     },
     "execution_count": 86,
     "metadata": {},
     "output_type": "execute_result"
    }
   ],
   "source": [
    "sharks_usa"
   ]
  }
 ],
 "metadata": {
  "kernelspec": {
   "display_name": "Python 3",
   "language": "python",
   "name": "python3"
  },
  "language_info": {
   "codemirror_mode": {
    "name": "ipython",
    "version": 3
   },
   "file_extension": ".py",
   "mimetype": "text/x-python",
   "name": "python",
   "nbconvert_exporter": "python",
   "pygments_lexer": "ipython3",
   "version": "3.9.1"
  }
 },
 "nbformat": 4,
 "nbformat_minor": 5
}
