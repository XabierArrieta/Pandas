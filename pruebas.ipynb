{
 "cells": [
  {
   "cell_type": "code",
   "execution_count": null,
   "id": "injured-norway",
   "metadata": {},
   "outputs": [],
   "source": [
    "sharks.dropna(inplace=True)"
   ]
  },
  {
   "cell_type": "code",
   "execution_count": null,
   "id": "congressional-scope",
   "metadata": {},
   "outputs": [],
   "source": [
    "sharks.isnull()"
   ]
  },
  {
   "cell_type": "code",
   "execution_count": null,
   "id": "solid-house",
   "metadata": {},
   "outputs": [],
   "source": [
    "sharks.isnull().sum().sort_values(ascending=False)\n",
    "\n",
    "\n",
    "\n",
    "\n",
    "haciedno esto me dice que no hay valores nulos pero en la dataset me aparecem Nans ??"
   ]
  }
 ],
 "metadata": {
  "kernelspec": {
   "display_name": "Python 3",
   "language": "python",
   "name": "python3"
  },
  "language_info": {
   "codemirror_mode": {
    "name": "ipython",
    "version": 3
   },
   "file_extension": ".py",
   "mimetype": "text/x-python",
   "name": "python",
   "nbconvert_exporter": "python",
   "pygments_lexer": "ipython3",
   "version": "3.8.5"
  }
 },
 "nbformat": 4,
 "nbformat_minor": 5
}
